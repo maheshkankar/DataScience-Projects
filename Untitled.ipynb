{
 "cells": [
  {
   "cell_type": "code",
   "execution_count": 1,
   "id": "e42066d7",
   "metadata": {},
   "outputs": [],
   "source": [
    "import re\n",
    "# Quantifiers"
   ]
  },
  {
   "cell_type": "code",
   "execution_count": 5,
   "id": "e6fef1d4",
   "metadata": {},
   "outputs": [
    {
     "name": "stdout",
     "output_type": "stream",
     "text": [
      "<re.Match object; span=(11, 17), match='Mahesh'>\n",
      "None\n",
      "11\n",
      "17\n"
     ]
    }
   ],
   "source": [
    "print(re.search(\"Mahesh\", \"My name is Mahesh\"))\n",
    "print(re.search(\"Mahesh\", \"My name is mahesh\"))\n",
    "print(re.search(\"Mahesh\", \"My name is Mahesh\").start())\n",
    "print(re.search(\"Mahesh\", \"My name is Mahesh\").end())"
   ]
  },
  {
   "cell_type": "code",
   "execution_count": 23,
   "id": "2d21c7da",
   "metadata": {},
   "outputs": [
    {
     "name": "stdout",
     "output_type": "stream",
     "text": [
      "<re.Match object; span=(0, 2), match='ab'>\n",
      "<re.Match object; span=(0, 2), match='ab'>\n",
      "<re.Match object; span=(0, 1), match='a'>\n",
      "None\n",
      "<re.Match object; span=(0, 1), match='a'>\n",
      "<re.Match object; span=(0, 2), match='ab'>\n",
      "<re.Match object; span=(0, 3), match='abb'>\n",
      "<re.Match object; span=(0, 2), match='ab'>\n",
      "<re.Match object; span=(0, 3), match='abb'>\n",
      "None\n",
      "<re.Match object; span=(0, 5), match='abbbb'>\n",
      "None\n"
     ]
    }
   ],
   "source": [
    "# ? zero or one (tells weather pattern is present or absent)\n",
    "print(re.search('ab?','ab'))\n",
    "print(re.search('ab?','abbc'))\n",
    "print(re.search('ab?','a'))\n",
    "print(re.search('ab?','c'))\n",
    "\n",
    "# * zero or more\n",
    "print(re.search('ab*','ac'))\n",
    "print(re.search('ab*','abc'))\n",
    "print(re.search('ab*','abbc'))\n",
    "\n",
    "# + one or more\n",
    "print(re.search('ab+','abc'))\n",
    "print(re.search('ab+','abbc'))\n",
    "print(re.search('ab+','ac'))\n",
    "\n",
    "# find pattern number of times\n",
    "print(re.search('ab{3,8}','abbbbc'))\n",
    "print(re.search('ab{6}','abbbbc'))"
   ]
  },
  {
   "cell_type": "code",
   "execution_count": 25,
   "id": "01c0abf9",
   "metadata": {},
   "outputs": [
    {
     "name": "stdout",
     "output_type": "stream",
     "text": [
      "<re.Match object; span=(0, 4), match='1010'>\n",
      "<re.Match object; span=(0, 4), match='2345'>\n"
     ]
    }
   ],
   "source": [
    "# start with 1 end with 0 and anything in between 0/1\n",
    "string = '1010'\n",
    "pattern = '1+0*1*0+'\n",
    "print(re.search(pattern,string))\n",
    "\n",
    "# with group character match\n",
    "string = '2345'\n",
    "pattern = '(23)+(45)+'\n",
    "print(re.search(pattern,string))"
   ]
  },
  {
   "cell_type": "code",
   "execution_count": 33,
   "id": "7800210b",
   "metadata": {},
   "outputs": [
    {
     "name": "stdout",
     "output_type": "stream",
     "text": [
      "<re.Match object; span=(0, 1), match='M'>\n",
      "None\n",
      "<re.Match object; span=(5, 6), match='h'>\n",
      "<re.Match object; span=(0, 1), match='M'>\n"
     ]
    }
   ],
   "source": [
    "## Anchors\n",
    "#1. ^ indicate start of the string\n",
    "#2. $ indicate end of the string\n",
    "print(re.search('^M', \"Mahesh\"))\n",
    "print(re.search('$M', \"Mahesh\"))\n",
    "print(re.search('h$', \"Mahesh\"))\n",
    "print(re.search('^m', \"Mahesh\", re.I)) # re.I ignores the case of pattern string."
   ]
  },
  {
   "cell_type": "code",
   "execution_count": 26,
   "id": "8f46347f",
   "metadata": {},
   "outputs": [
    {
     "name": "stdout",
     "output_type": "stream",
     "text": [
      "<re.Match object; span=(0, 10), match='Basketball'>\n"
     ]
    }
   ],
   "source": [
    "# | pipe operator\n",
    "string = 'Basketball'\n",
    "pattern = '(Basket|Base|Volley|Foot)*ball'\n",
    "print(re.search(pattern,string))"
   ]
  },
  {
   "cell_type": "code",
   "execution_count": 34,
   "id": "908cc0aa",
   "metadata": {},
   "outputs": [
    {
     "name": "stdout",
     "output_type": "stream",
     "text": [
      "<re.Match object; span=(0, 1), match='a'>\n"
     ]
    }
   ],
   "source": [
    "## placeholder\n",
    "# wildcards\n",
    "# 1. . matches any character\n",
    "print(re.search(\".\",\"a\"))"
   ]
  },
  {
   "cell_type": "code",
   "execution_count": 52,
   "id": "35b52ba3",
   "metadata": {},
   "outputs": [
    {
     "name": "stdout",
     "output_type": "stream",
     "text": [
      "<re.Match object; span=(0, 1), match='M'>\n",
      "<re.Match object; span=(0, 1), match='b'>\n",
      "<re.Match object; span=(0, 1), match='f'>\n",
      "<re.Match object; span=(0, 1), match='g'>\n",
      "<re.Match object; span=(0, 1), match='5'>\n"
     ]
    }
   ],
   "source": [
    "# character sets\n",
    "print(re.search('[Mahesh]', \"M\"))\n",
    "print(re.search('[a-c]', \"b\")) # in range\n",
    "print(re.search('[a-z]', \"f\")) # in range a-z\n",
    "print(re.search('[A-z]', \"g\")) # in range a-z or A-Z\n",
    "print(re.search('[0-9]', \"5\")) # in range 0-9"
   ]
  },
  {
   "cell_type": "code",
   "execution_count": 44,
   "id": "86f50448",
   "metadata": {},
   "outputs": [
    {
     "name": "stdout",
     "output_type": "stream",
     "text": [
      "None\n"
     ]
    }
   ],
   "source": [
    "# match complement\n",
    "print(re.search('[^abc]', \"a\"))"
   ]
  },
  {
   "cell_type": "code",
   "execution_count": 47,
   "id": "e42475d4",
   "metadata": {},
   "outputs": [
    {
     "name": "stdout",
     "output_type": "stream",
     "text": [
      "<re.Match object; span=(6, 7), match=' '>\n"
     ]
    }
   ],
   "source": [
    "# match if space is present\n",
    "print(re.search(\"\\s+\", \"Mahesh Kankar\"))"
   ]
  },
  {
   "cell_type": "code",
   "execution_count": 49,
   "id": "2496284f",
   "metadata": {},
   "outputs": [
    {
     "name": "stdout",
     "output_type": "stream",
     "text": [
      "<re.Match object; span=(4, 6), match='19'>\n"
     ]
    }
   ],
   "source": [
    "# match id digit is present\n",
    "print(re.search('\\d+', \"mahi19Kankar96\"))"
   ]
  },
  {
   "cell_type": "code",
   "execution_count": 54,
   "id": "1518ccb7",
   "metadata": {},
   "outputs": [
    {
     "name": "stdout",
     "output_type": "stream",
     "text": [
      "None\n",
      "<re.Match object; span=(1, 4), match='bbb'>\n"
     ]
    }
   ],
   "source": [
    "# match function\n",
    "print(re.match(\"b+\", \"abbbc\")) # it does not start with b\n",
    "print(re.search(\"b+\", \"abbbc\"))"
   ]
  },
  {
   "cell_type": "code",
   "execution_count": 57,
   "id": "f5852514",
   "metadata": {},
   "outputs": [
    {
     "name": "stdout",
     "output_type": "stream",
     "text": [
      "Anita is a good girl.\n",
      "21 Rd Rd\n"
     ]
    }
   ],
   "source": [
    "# replace with\n",
    "print(re.sub('Mahesh', 'Anita',\"Mahesh is a good girl.\"))\n",
    "print(re.sub('R\\w+', 'Rd',\"21 Ramkrishna Road\"))"
   ]
  },
  {
   "cell_type": "code",
   "execution_count": null,
   "id": "459c3ce3",
   "metadata": {},
   "outputs": [],
   "source": []
  }
 ],
 "metadata": {
  "kernelspec": {
   "display_name": "Python 3 (ipykernel)",
   "language": "python",
   "name": "python3"
  },
  "language_info": {
   "codemirror_mode": {
    "name": "ipython",
    "version": 3
   },
   "file_extension": ".py",
   "mimetype": "text/x-python",
   "name": "python",
   "nbconvert_exporter": "python",
   "pygments_lexer": "ipython3",
   "version": "3.8.10"
  }
 },
 "nbformat": 4,
 "nbformat_minor": 5
}
