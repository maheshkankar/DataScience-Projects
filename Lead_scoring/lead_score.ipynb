{
 "cells": [
  {
   "cell_type": "code",
   "execution_count": 223,
   "id": "f7dea19a",
   "metadata": {},
   "outputs": [],
   "source": [
    "import numpy as np\n",
    "import pandas as pd\n",
    "import matplotlib.pyplot as plt\n",
    "import seaborn as sns\n",
    "import warnings\n",
    "warnings.filterwarnings('ignore')"
   ]
  },
  {
   "cell_type": "code",
   "execution_count": 224,
   "id": "94dcf5be",
   "metadata": {},
   "outputs": [
    {
     "data": {
      "text/html": [
       "<div>\n",
       "<style scoped>\n",
       "    .dataframe tbody tr th:only-of-type {\n",
       "        vertical-align: middle;\n",
       "    }\n",
       "\n",
       "    .dataframe tbody tr th {\n",
       "        vertical-align: top;\n",
       "    }\n",
       "\n",
       "    .dataframe thead th {\n",
       "        text-align: right;\n",
       "    }\n",
       "</style>\n",
       "<table border=\"1\" class=\"dataframe\">\n",
       "  <thead>\n",
       "    <tr style=\"text-align: right;\">\n",
       "      <th></th>\n",
       "      <th>Prospect ID</th>\n",
       "      <th>Lead Number</th>\n",
       "      <th>Lead Origin</th>\n",
       "      <th>Lead Source</th>\n",
       "      <th>Do Not Email</th>\n",
       "      <th>Do Not Call</th>\n",
       "      <th>Converted</th>\n",
       "      <th>TotalVisits</th>\n",
       "      <th>Total Time Spent on Website</th>\n",
       "      <th>Page Views Per Visit</th>\n",
       "      <th>...</th>\n",
       "      <th>Get updates on DM Content</th>\n",
       "      <th>Lead Profile</th>\n",
       "      <th>City</th>\n",
       "      <th>Asymmetrique Activity Index</th>\n",
       "      <th>Asymmetrique Profile Index</th>\n",
       "      <th>Asymmetrique Activity Score</th>\n",
       "      <th>Asymmetrique Profile Score</th>\n",
       "      <th>I agree to pay the amount through cheque</th>\n",
       "      <th>A free copy of Mastering The Interview</th>\n",
       "      <th>Last Notable Activity</th>\n",
       "    </tr>\n",
       "  </thead>\n",
       "  <tbody>\n",
       "    <tr>\n",
       "      <th>0</th>\n",
       "      <td>7927b2df-8bba-4d29-b9a2-b6e0beafe620</td>\n",
       "      <td>660737</td>\n",
       "      <td>API</td>\n",
       "      <td>Olark Chat</td>\n",
       "      <td>No</td>\n",
       "      <td>No</td>\n",
       "      <td>0</td>\n",
       "      <td>0.0</td>\n",
       "      <td>0</td>\n",
       "      <td>0.0</td>\n",
       "      <td>...</td>\n",
       "      <td>No</td>\n",
       "      <td>Select</td>\n",
       "      <td>Select</td>\n",
       "      <td>02.Medium</td>\n",
       "      <td>02.Medium</td>\n",
       "      <td>15.0</td>\n",
       "      <td>15.0</td>\n",
       "      <td>No</td>\n",
       "      <td>No</td>\n",
       "      <td>Modified</td>\n",
       "    </tr>\n",
       "    <tr>\n",
       "      <th>1</th>\n",
       "      <td>2a272436-5132-4136-86fa-dcc88c88f482</td>\n",
       "      <td>660728</td>\n",
       "      <td>API</td>\n",
       "      <td>Organic Search</td>\n",
       "      <td>No</td>\n",
       "      <td>No</td>\n",
       "      <td>0</td>\n",
       "      <td>5.0</td>\n",
       "      <td>674</td>\n",
       "      <td>2.5</td>\n",
       "      <td>...</td>\n",
       "      <td>No</td>\n",
       "      <td>Select</td>\n",
       "      <td>Select</td>\n",
       "      <td>02.Medium</td>\n",
       "      <td>02.Medium</td>\n",
       "      <td>15.0</td>\n",
       "      <td>15.0</td>\n",
       "      <td>No</td>\n",
       "      <td>No</td>\n",
       "      <td>Email Opened</td>\n",
       "    </tr>\n",
       "    <tr>\n",
       "      <th>2</th>\n",
       "      <td>8cc8c611-a219-4f35-ad23-fdfd2656bd8a</td>\n",
       "      <td>660727</td>\n",
       "      <td>Landing Page Submission</td>\n",
       "      <td>Direct Traffic</td>\n",
       "      <td>No</td>\n",
       "      <td>No</td>\n",
       "      <td>1</td>\n",
       "      <td>2.0</td>\n",
       "      <td>1532</td>\n",
       "      <td>2.0</td>\n",
       "      <td>...</td>\n",
       "      <td>No</td>\n",
       "      <td>Potential Lead</td>\n",
       "      <td>Mumbai</td>\n",
       "      <td>02.Medium</td>\n",
       "      <td>01.High</td>\n",
       "      <td>14.0</td>\n",
       "      <td>20.0</td>\n",
       "      <td>No</td>\n",
       "      <td>Yes</td>\n",
       "      <td>Email Opened</td>\n",
       "    </tr>\n",
       "    <tr>\n",
       "      <th>3</th>\n",
       "      <td>0cc2df48-7cf4-4e39-9de9-19797f9b38cc</td>\n",
       "      <td>660719</td>\n",
       "      <td>Landing Page Submission</td>\n",
       "      <td>Direct Traffic</td>\n",
       "      <td>No</td>\n",
       "      <td>No</td>\n",
       "      <td>0</td>\n",
       "      <td>1.0</td>\n",
       "      <td>305</td>\n",
       "      <td>1.0</td>\n",
       "      <td>...</td>\n",
       "      <td>No</td>\n",
       "      <td>Select</td>\n",
       "      <td>Mumbai</td>\n",
       "      <td>02.Medium</td>\n",
       "      <td>01.High</td>\n",
       "      <td>13.0</td>\n",
       "      <td>17.0</td>\n",
       "      <td>No</td>\n",
       "      <td>No</td>\n",
       "      <td>Modified</td>\n",
       "    </tr>\n",
       "    <tr>\n",
       "      <th>4</th>\n",
       "      <td>3256f628-e534-4826-9d63-4a8b88782852</td>\n",
       "      <td>660681</td>\n",
       "      <td>Landing Page Submission</td>\n",
       "      <td>Google</td>\n",
       "      <td>No</td>\n",
       "      <td>No</td>\n",
       "      <td>1</td>\n",
       "      <td>2.0</td>\n",
       "      <td>1428</td>\n",
       "      <td>1.0</td>\n",
       "      <td>...</td>\n",
       "      <td>No</td>\n",
       "      <td>Select</td>\n",
       "      <td>Mumbai</td>\n",
       "      <td>02.Medium</td>\n",
       "      <td>01.High</td>\n",
       "      <td>15.0</td>\n",
       "      <td>18.0</td>\n",
       "      <td>No</td>\n",
       "      <td>No</td>\n",
       "      <td>Modified</td>\n",
       "    </tr>\n",
       "  </tbody>\n",
       "</table>\n",
       "<p>5 rows × 37 columns</p>\n",
       "</div>"
      ],
      "text/plain": [
       "                            Prospect ID  Lead Number              Lead Origin  \\\n",
       "0  7927b2df-8bba-4d29-b9a2-b6e0beafe620       660737                      API   \n",
       "1  2a272436-5132-4136-86fa-dcc88c88f482       660728                      API   \n",
       "2  8cc8c611-a219-4f35-ad23-fdfd2656bd8a       660727  Landing Page Submission   \n",
       "3  0cc2df48-7cf4-4e39-9de9-19797f9b38cc       660719  Landing Page Submission   \n",
       "4  3256f628-e534-4826-9d63-4a8b88782852       660681  Landing Page Submission   \n",
       "\n",
       "      Lead Source Do Not Email Do Not Call  Converted  TotalVisits  \\\n",
       "0      Olark Chat           No          No          0          0.0   \n",
       "1  Organic Search           No          No          0          5.0   \n",
       "2  Direct Traffic           No          No          1          2.0   \n",
       "3  Direct Traffic           No          No          0          1.0   \n",
       "4          Google           No          No          1          2.0   \n",
       "\n",
       "   Total Time Spent on Website  Page Views Per Visit  ...  \\\n",
       "0                            0                   0.0  ...   \n",
       "1                          674                   2.5  ...   \n",
       "2                         1532                   2.0  ...   \n",
       "3                          305                   1.0  ...   \n",
       "4                         1428                   1.0  ...   \n",
       "\n",
       "  Get updates on DM Content    Lead Profile    City  \\\n",
       "0                        No          Select  Select   \n",
       "1                        No          Select  Select   \n",
       "2                        No  Potential Lead  Mumbai   \n",
       "3                        No          Select  Mumbai   \n",
       "4                        No          Select  Mumbai   \n",
       "\n",
       "  Asymmetrique Activity Index Asymmetrique Profile Index  \\\n",
       "0                   02.Medium                  02.Medium   \n",
       "1                   02.Medium                  02.Medium   \n",
       "2                   02.Medium                    01.High   \n",
       "3                   02.Medium                    01.High   \n",
       "4                   02.Medium                    01.High   \n",
       "\n",
       "  Asymmetrique Activity Score Asymmetrique Profile Score  \\\n",
       "0                        15.0                       15.0   \n",
       "1                        15.0                       15.0   \n",
       "2                        14.0                       20.0   \n",
       "3                        13.0                       17.0   \n",
       "4                        15.0                       18.0   \n",
       "\n",
       "  I agree to pay the amount through cheque  \\\n",
       "0                                       No   \n",
       "1                                       No   \n",
       "2                                       No   \n",
       "3                                       No   \n",
       "4                                       No   \n",
       "\n",
       "  A free copy of Mastering The Interview Last Notable Activity  \n",
       "0                                     No              Modified  \n",
       "1                                     No          Email Opened  \n",
       "2                                    Yes          Email Opened  \n",
       "3                                     No              Modified  \n",
       "4                                     No              Modified  \n",
       "\n",
       "[5 rows x 37 columns]"
      ]
     },
     "execution_count": 224,
     "metadata": {},
     "output_type": "execute_result"
    }
   ],
   "source": [
    "data = pd.read_csv('Leads.csv')\n",
    "data.head()"
   ]
  },
  {
   "cell_type": "code",
   "execution_count": 225,
   "id": "e330bedb",
   "metadata": {},
   "outputs": [
    {
     "name": "stdout",
     "output_type": "stream",
     "text": [
      "<class 'pandas.core.frame.DataFrame'>\n",
      "RangeIndex: 9240 entries, 0 to 9239\n",
      "Data columns (total 37 columns):\n",
      " #   Column                                         Non-Null Count  Dtype  \n",
      "---  ------                                         --------------  -----  \n",
      " 0   Prospect ID                                    9240 non-null   object \n",
      " 1   Lead Number                                    9240 non-null   int64  \n",
      " 2   Lead Origin                                    9240 non-null   object \n",
      " 3   Lead Source                                    9204 non-null   object \n",
      " 4   Do Not Email                                   9240 non-null   object \n",
      " 5   Do Not Call                                    9240 non-null   object \n",
      " 6   Converted                                      9240 non-null   int64  \n",
      " 7   TotalVisits                                    9103 non-null   float64\n",
      " 8   Total Time Spent on Website                    9240 non-null   int64  \n",
      " 9   Page Views Per Visit                           9103 non-null   float64\n",
      " 10  Last Activity                                  9137 non-null   object \n",
      " 11  Country                                        6779 non-null   object \n",
      " 12  Specialization                                 7802 non-null   object \n",
      " 13  How did you hear about X Education             7033 non-null   object \n",
      " 14  What is your current occupation                6550 non-null   object \n",
      " 15  What matters most to you in choosing a course  6531 non-null   object \n",
      " 16  Search                                         9240 non-null   object \n",
      " 17  Magazine                                       9240 non-null   object \n",
      " 18  Newspaper Article                              9240 non-null   object \n",
      " 19  X Education Forums                             9240 non-null   object \n",
      " 20  Newspaper                                      9240 non-null   object \n",
      " 21  Digital Advertisement                          9240 non-null   object \n",
      " 22  Through Recommendations                        9240 non-null   object \n",
      " 23  Receive More Updates About Our Courses         9240 non-null   object \n",
      " 24  Tags                                           5887 non-null   object \n",
      " 25  Lead Quality                                   4473 non-null   object \n",
      " 26  Update me on Supply Chain Content              9240 non-null   object \n",
      " 27  Get updates on DM Content                      9240 non-null   object \n",
      " 28  Lead Profile                                   6531 non-null   object \n",
      " 29  City                                           7820 non-null   object \n",
      " 30  Asymmetrique Activity Index                    5022 non-null   object \n",
      " 31  Asymmetrique Profile Index                     5022 non-null   object \n",
      " 32  Asymmetrique Activity Score                    5022 non-null   float64\n",
      " 33  Asymmetrique Profile Score                     5022 non-null   float64\n",
      " 34  I agree to pay the amount through cheque       9240 non-null   object \n",
      " 35  A free copy of Mastering The Interview         9240 non-null   object \n",
      " 36  Last Notable Activity                          9240 non-null   object \n",
      "dtypes: float64(4), int64(3), object(30)\n",
      "memory usage: 2.6+ MB\n"
     ]
    }
   ],
   "source": [
    "data.info()"
   ]
  },
  {
   "cell_type": "code",
   "execution_count": 226,
   "id": "afdcc962",
   "metadata": {},
   "outputs": [
    {
     "data": {
      "text/html": [
       "<div>\n",
       "<style scoped>\n",
       "    .dataframe tbody tr th:only-of-type {\n",
       "        vertical-align: middle;\n",
       "    }\n",
       "\n",
       "    .dataframe tbody tr th {\n",
       "        vertical-align: top;\n",
       "    }\n",
       "\n",
       "    .dataframe thead th {\n",
       "        text-align: right;\n",
       "    }\n",
       "</style>\n",
       "<table border=\"1\" class=\"dataframe\">\n",
       "  <thead>\n",
       "    <tr style=\"text-align: right;\">\n",
       "      <th></th>\n",
       "      <th>Lead Number</th>\n",
       "      <th>Converted</th>\n",
       "      <th>TotalVisits</th>\n",
       "      <th>Total Time Spent on Website</th>\n",
       "      <th>Page Views Per Visit</th>\n",
       "      <th>Asymmetrique Activity Score</th>\n",
       "      <th>Asymmetrique Profile Score</th>\n",
       "    </tr>\n",
       "  </thead>\n",
       "  <tbody>\n",
       "    <tr>\n",
       "      <th>count</th>\n",
       "      <td>9240.000000</td>\n",
       "      <td>9240.000000</td>\n",
       "      <td>9103.000000</td>\n",
       "      <td>9240.000000</td>\n",
       "      <td>9103.000000</td>\n",
       "      <td>5022.000000</td>\n",
       "      <td>5022.000000</td>\n",
       "    </tr>\n",
       "    <tr>\n",
       "      <th>mean</th>\n",
       "      <td>617188.435606</td>\n",
       "      <td>0.385390</td>\n",
       "      <td>3.445238</td>\n",
       "      <td>487.698268</td>\n",
       "      <td>2.362820</td>\n",
       "      <td>14.306252</td>\n",
       "      <td>16.344883</td>\n",
       "    </tr>\n",
       "    <tr>\n",
       "      <th>std</th>\n",
       "      <td>23405.995698</td>\n",
       "      <td>0.486714</td>\n",
       "      <td>4.854853</td>\n",
       "      <td>548.021466</td>\n",
       "      <td>2.161418</td>\n",
       "      <td>1.386694</td>\n",
       "      <td>1.811395</td>\n",
       "    </tr>\n",
       "    <tr>\n",
       "      <th>min</th>\n",
       "      <td>579533.000000</td>\n",
       "      <td>0.000000</td>\n",
       "      <td>0.000000</td>\n",
       "      <td>0.000000</td>\n",
       "      <td>0.000000</td>\n",
       "      <td>7.000000</td>\n",
       "      <td>11.000000</td>\n",
       "    </tr>\n",
       "    <tr>\n",
       "      <th>25%</th>\n",
       "      <td>596484.500000</td>\n",
       "      <td>0.000000</td>\n",
       "      <td>1.000000</td>\n",
       "      <td>12.000000</td>\n",
       "      <td>1.000000</td>\n",
       "      <td>14.000000</td>\n",
       "      <td>15.000000</td>\n",
       "    </tr>\n",
       "    <tr>\n",
       "      <th>50%</th>\n",
       "      <td>615479.000000</td>\n",
       "      <td>0.000000</td>\n",
       "      <td>3.000000</td>\n",
       "      <td>248.000000</td>\n",
       "      <td>2.000000</td>\n",
       "      <td>14.000000</td>\n",
       "      <td>16.000000</td>\n",
       "    </tr>\n",
       "    <tr>\n",
       "      <th>75%</th>\n",
       "      <td>637387.250000</td>\n",
       "      <td>1.000000</td>\n",
       "      <td>5.000000</td>\n",
       "      <td>936.000000</td>\n",
       "      <td>3.000000</td>\n",
       "      <td>15.000000</td>\n",
       "      <td>18.000000</td>\n",
       "    </tr>\n",
       "    <tr>\n",
       "      <th>max</th>\n",
       "      <td>660737.000000</td>\n",
       "      <td>1.000000</td>\n",
       "      <td>251.000000</td>\n",
       "      <td>2272.000000</td>\n",
       "      <td>55.000000</td>\n",
       "      <td>18.000000</td>\n",
       "      <td>20.000000</td>\n",
       "    </tr>\n",
       "  </tbody>\n",
       "</table>\n",
       "</div>"
      ],
      "text/plain": [
       "         Lead Number    Converted  TotalVisits  Total Time Spent on Website  \\\n",
       "count    9240.000000  9240.000000  9103.000000                  9240.000000   \n",
       "mean   617188.435606     0.385390     3.445238                   487.698268   \n",
       "std     23405.995698     0.486714     4.854853                   548.021466   \n",
       "min    579533.000000     0.000000     0.000000                     0.000000   \n",
       "25%    596484.500000     0.000000     1.000000                    12.000000   \n",
       "50%    615479.000000     0.000000     3.000000                   248.000000   \n",
       "75%    637387.250000     1.000000     5.000000                   936.000000   \n",
       "max    660737.000000     1.000000   251.000000                  2272.000000   \n",
       "\n",
       "       Page Views Per Visit  Asymmetrique Activity Score  \\\n",
       "count           9103.000000                  5022.000000   \n",
       "mean               2.362820                    14.306252   \n",
       "std                2.161418                     1.386694   \n",
       "min                0.000000                     7.000000   \n",
       "25%                1.000000                    14.000000   \n",
       "50%                2.000000                    14.000000   \n",
       "75%                3.000000                    15.000000   \n",
       "max               55.000000                    18.000000   \n",
       "\n",
       "       Asymmetrique Profile Score  \n",
       "count                 5022.000000  \n",
       "mean                    16.344883  \n",
       "std                      1.811395  \n",
       "min                     11.000000  \n",
       "25%                     15.000000  \n",
       "50%                     16.000000  \n",
       "75%                     18.000000  \n",
       "max                     20.000000  "
      ]
     },
     "execution_count": 226,
     "metadata": {},
     "output_type": "execute_result"
    }
   ],
   "source": [
    "data .describe()"
   ]
  },
  {
   "cell_type": "code",
   "execution_count": 227,
   "id": "40831f45",
   "metadata": {},
   "outputs": [
    {
     "data": {
      "text/plain": [
       "(9240, 37)"
      ]
     },
     "execution_count": 227,
     "metadata": {},
     "output_type": "execute_result"
    }
   ],
   "source": [
    "data.shape"
   ]
  },
  {
   "cell_type": "markdown",
   "id": "cde0be57",
   "metadata": {},
   "source": [
    "# Univariate analysis along with data Wrangling"
   ]
  },
  {
   "cell_type": "code",
   "execution_count": 228,
   "id": "ed5d7e66",
   "metadata": {},
   "outputs": [
    {
     "name": "stdout",
     "output_type": "stream",
     "text": [
      "0\n",
      "Lead Origin\n",
      "Landing Page Submission    4886\n",
      "API                        3580\n",
      "Lead Add Form               718\n",
      "Lead Import                  55\n",
      "Quick Add Form                1\n",
      "dtype: int64\n"
     ]
    },
    {
     "data": {
      "image/png": "[encoded data removed]",
      "text/plain": [
       "<Figure size 432x288 with 1 Axes>"
      ]
     },
     "metadata": {},
     "output_type": "display_data"
    }
   ],
   "source": [
    "# start understanding each feature one by one\n",
    "# start with \n",
    "#Lead Origin\n",
    "print(data['Lead Origin'].isnull().sum())\n",
    "# does not have missing values\n",
    "print(data.value_counts('Lead Origin'))\n",
    "# 5 unique categories in which lead origin having highest instance through Landing Page Submission and API\n",
    "plt.pie(data.value_counts('Lead Origin'),labels=['Landing Page Submission', 'API', 'Lead Add Form',\n",
    "       'Lead Import','Quick Add Form'], radius=1.5)\n",
    "plt.show()"
   ]
  },
  {
   "cell_type": "code",
   "execution_count": 229,
   "id": "ddcb69f2",
   "metadata": {},
   "outputs": [
    {
     "data": {
      "image/png": "[encoded data removed]",
      "text/plain": [
       "<Figure size 720x360 with 1 Axes>"
      ]
     },
     "metadata": {
      "needs_background": "light"
     },
     "output_type": "display_data"
    }
   ],
   "source": [
    "plt.figure(figsize=(10,5))\n",
    "sns.countplot(x = \"Lead Origin\", hue = \"Converted\", data = data,palette='Set1')\n",
    "plt.xticks(rotation = 45)\n",
    "plt.show()"
   ]
  },
  {
   "cell_type": "code",
   "execution_count": 230,
   "id": "0c6dd21a",
   "metadata": {},
   "outputs": [
    {
     "name": "stdout",
     "output_type": "stream",
     "text": [
      "36\n",
      "Lead Source\n",
      "Google               2868\n",
      "Direct Traffic       2543\n",
      "Olark Chat           1755\n",
      "Organic Search       1154\n",
      "Reference             534\n",
      "Welingak Website      142\n",
      "Referral Sites        125\n",
      "Facebook               55\n",
      "bing                    6\n",
      "google                  5\n",
      "Click2call              4\n",
      "Press_Release           2\n",
      "Social Media            2\n",
      "Live Chat               2\n",
      "WeLearn                 1\n",
      "Pay per Click Ads       1\n",
      "NC_EDM                  1\n",
      "blog                    1\n",
      "testone                 1\n",
      "welearnblog_Home        1\n",
      "youtubechannel          1\n",
      "dtype: int64\n",
      "0\n"
     ]
    }
   ],
   "source": [
    "#Lead Source\n",
    "print(data['Lead Source'].isnull().sum())\n",
    "# 36 missing values\n",
    "print(data.value_counts('Lead Source'))\n",
    "#unique categories are many and most lead sources fom google, direct traffic and chat\n",
    "# since only few values are missing will drop those rows\n",
    "data = data.dropna(subset = [\"Lead Source\"])\n",
    "print(data['Lead Source'].isnull().sum())"
   ]
  },
  {
   "cell_type": "code",
   "execution_count": 231,
   "id": "1af6a103",
   "metadata": {},
   "outputs": [
    {
     "name": "stdout",
     "output_type": "stream",
     "text": [
      "0\n",
      "Do Not Email\n",
      "No     8483\n",
      "Yes     721\n",
      "dtype: int64\n"
     ]
    }
   ],
   "source": [
    "#Lead Origin\n",
    "print(data['Do Not Email'].isnull().sum())\n",
    "# does not have missing values\n",
    "print(data.value_counts('Do Not Email'))\n",
    "# 2 unique categories yes and no most want do not mail No."
   ]
  },
  {
   "cell_type": "code",
   "execution_count": 232,
   "id": "bcfdffb5",
   "metadata": {},
   "outputs": [
    {
     "name": "stdout",
     "output_type": "stream",
     "text": [
      "0\n",
      "Do Not Call\n",
      "No     9202\n",
      "Yes       2\n",
      "dtype: int64\n"
     ]
    }
   ],
   "source": [
    "#Lead Origin\n",
    "print(data['Do Not Call'].isnull().sum())\n",
    "# does not have missing values\n",
    "print(data.value_counts('Do Not Call'))\n",
    "# 2 unique categories yes and no most want do not call NO."
   ]
  },
  {
   "cell_type": "code",
   "execution_count": 233,
   "id": "ef5363b2",
   "metadata": {},
   "outputs": [],
   "source": [
    "# Select is the non actioned value put in data which is equavalen to null\n",
    "# this might be present in other column also\n",
    "# let's replace all \"Select\" in dataset with null\n",
    "data = data.replace('Select', np.nan)"
   ]
  },
  {
   "cell_type": "code",
   "execution_count": 234,
   "id": "7e93c3e6",
   "metadata": {},
   "outputs": [
    {
     "name": "stdout",
     "output_type": "stream",
     "text": [
      "6824\n",
      "Lead Profile\n",
      "Potential Lead                 1608\n",
      "Other Leads                     487\n",
      "Student of SomeSchool           241\n",
      "Lateral Student                  24\n",
      "Dual Specialization Student      20\n",
      "dtype: int64\n"
     ]
    }
   ],
   "source": [
    "#Lead Profile\n",
    "print(data['Lead Profile'].isnull().sum())\n",
    "# does have many missing values\n",
    "print(data.value_counts('Lead Profile'))\n",
    "# 5 unique categories  most of potential one"
   ]
  },
  {
   "cell_type": "code",
   "execution_count": 235,
   "id": "00e4c67e",
   "metadata": {},
   "outputs": [
    {
     "data": {
      "text/plain": [
       "Prospect ID                                       0.0\n",
       "Lead Number                                       0.0\n",
       "Lead Origin                                       0.0\n",
       "Lead Source                                       0.0\n",
       "Do Not Email                                      0.0\n",
       "Do Not Call                                       0.0\n",
       "Converted                                         0.0\n",
       "TotalVisits                                       1.0\n",
       "Total Time Spent on Website                       0.0\n",
       "Page Views Per Visit                              1.0\n",
       "Last Activity                                     1.0\n",
       "Country                                          26.0\n",
       "Specialization                                   36.0\n",
       "How did you hear about X Education               78.0\n",
       "What is your current occupation                  29.0\n",
       "What matters most to you in choosing a course    29.0\n",
       "Search                                            0.0\n",
       "Magazine                                          0.0\n",
       "Newspaper Article                                 0.0\n",
       "X Education Forums                                0.0\n",
       "Newspaper                                         0.0\n",
       "Digital Advertisement                             0.0\n",
       "Through Recommendations                           0.0\n",
       "Receive More Updates About Our Courses            0.0\n",
       "Tags                                             36.0\n",
       "Lead Quality                                     52.0\n",
       "Update me on Supply Chain Content                 0.0\n",
       "Get updates on DM Content                         0.0\n",
       "Lead Profile                                     74.0\n",
       "City                                             40.0\n",
       "Asymmetrique Activity Index                      46.0\n",
       "Asymmetrique Profile Index                       46.0\n",
       "Asymmetrique Activity Score                      46.0\n",
       "Asymmetrique Profile Score                       46.0\n",
       "I agree to pay the amount through cheque          0.0\n",
       "A free copy of Mastering The Interview            0.0\n",
       "Last Notable Activity                             0.0\n",
       "dtype: float64"
      ]
     },
     "execution_count": 235,
     "metadata": {},
     "output_type": "execute_result"
    }
   ],
   "source": [
    "# out of many columns just see percentage of missing in each feature\n",
    "round(data.isnull().sum()/len(data.index),2)*100\n",
    "# many columns having more than 40% value missing drop those columns"
   ]
  },
  {
   "cell_type": "code",
   "execution_count": 236,
   "id": "d8ab4723",
   "metadata": {},
   "outputs": [],
   "source": [
    "# dropping those columns\n",
    "data=data.drop(columns=['How did you hear about X Education','Lead Quality','Lead Profile',\n",
    "                                  'Asymmetrique Activity Index','Asymmetrique Profile Index','Asymmetrique Activity Score',\n",
    "                                 'Asymmetrique Profile Score'])"
   ]
  },
  {
   "cell_type": "code",
   "execution_count": 237,
   "id": "a4d0c0f3",
   "metadata": {},
   "outputs": [
    {
     "data": {
      "text/plain": [
       "Prospect ID                                       0.0\n",
       "Lead Number                                       0.0\n",
       "Lead Origin                                       0.0\n",
       "Lead Source                                       0.0\n",
       "Do Not Email                                      0.0\n",
       "Do Not Call                                       0.0\n",
       "Converted                                         0.0\n",
       "TotalVisits                                       1.0\n",
       "Total Time Spent on Website                       0.0\n",
       "Page Views Per Visit                              1.0\n",
       "Last Activity                                     1.0\n",
       "Country                                          26.0\n",
       "Specialization                                   36.0\n",
       "What is your current occupation                  29.0\n",
       "What matters most to you in choosing a course    29.0\n",
       "Search                                            0.0\n",
       "Magazine                                          0.0\n",
       "Newspaper Article                                 0.0\n",
       "X Education Forums                                0.0\n",
       "Newspaper                                         0.0\n",
       "Digital Advertisement                             0.0\n",
       "Through Recommendations                           0.0\n",
       "Receive More Updates About Our Courses            0.0\n",
       "Tags                                             36.0\n",
       "Update me on Supply Chain Content                 0.0\n",
       "Get updates on DM Content                         0.0\n",
       "City                                             40.0\n",
       "I agree to pay the amount through cheque          0.0\n",
       "A free copy of Mastering The Interview            0.0\n",
       "Last Notable Activity                             0.0\n",
       "dtype: float64"
      ]
     },
     "execution_count": 237,
     "metadata": {},
     "output_type": "execute_result"
    }
   ],
   "source": [
    "# again finding null percentage\n",
    "round(data.isnull().sum()/len(data.index),2)*100"
   ]
  },
  {
   "cell_type": "code",
   "execution_count": 238,
   "id": "81b6f122",
   "metadata": {},
   "outputs": [
    {
     "data": {
      "image/png": "[encoded data removed]",
      "text/plain": [
       "<Figure size 1224x360 with 1 Axes>"
      ]
     },
     "metadata": {
      "needs_background": "light"
     },
     "output_type": "display_data"
    }
   ],
   "source": [
    "# see Speclization\n",
    "# has 36% values missing\n",
    "plt.figure(figsize=(17,5))\n",
    "sns.countplot(data['Specialization'])\n",
    "plt.xticks(rotation=90)\n",
    "plt.show()"
   ]
  },
  {
   "cell_type": "code",
   "execution_count": 239,
   "id": "fbe1a4aa",
   "metadata": {},
   "outputs": [],
   "source": [
    "# applicant's might be students or did't update their Specialization ,\n",
    "#instead of droping just create Others category for all of them.\n",
    "data['Specialization'] = data['Specialization'].replace(np.nan, 'Others')"
   ]
  },
  {
   "cell_type": "code",
   "execution_count": 240,
   "id": "f2f90084",
   "metadata": {},
   "outputs": [
    {
     "data": {
      "image/png": "[encoded data removed]",
      "text/plain": [
       "<Figure size 720x504 with 1 Axes>"
      ]
     },
     "metadata": {
      "needs_background": "light"
     },
     "output_type": "display_data"
    }
   ],
   "source": [
    "# Tags column\n",
    "plt.figure(figsize=(10,7))\n",
    "sns.countplot(data['Tags'])\n",
    "plt.xticks(rotation=90)\n",
    "plt.show()"
   ]
  },
  {
   "cell_type": "code",
   "execution_count": 241,
   "id": "4478a988",
   "metadata": {},
   "outputs": [],
   "source": [
    "# there are 36% values missing \n",
    "# let's impute them with Mode value, that's 'will revert after reading the mail'\n",
    "data['Tags']=data['Tags'].replace(np.nan,'Will revert after reading the email')"
   ]
  },
  {
   "cell_type": "code",
   "execution_count": 242,
   "id": "03f16616",
   "metadata": {},
   "outputs": [
    {
     "name": "stdout",
     "output_type": "stream",
     "text": [
      "2709\n"
     ]
    }
   ],
   "source": [
    "print(data['What matters most to you in choosing a course'].isnull().sum())\n",
    "data['What matters most to you in choosing a course'].value_counts()\n",
    "# if we see this column many values missing almost 29%\n",
    "# all available having ecept 3 values belong to one category\n",
    "# is unuseful for our task since it does not add any value in prediction\n",
    "# drop this column\n",
    "data.drop('What matters most to you in choosing a course',axis=1, inplace = True)"
   ]
  },
  {
   "cell_type": "code",
   "execution_count": 243,
   "id": "2d395e67",
   "metadata": {},
   "outputs": [
    {
     "name": "stdout",
     "output_type": "stream",
     "text": [
      "2690\n"
     ]
    },
    {
     "data": {
      "image/png": "[encoded data removed]",
      "text/plain": [
       "<Figure size 432x288 with 1 Axes>"
      ]
     },
     "metadata": {
      "needs_background": "light"
     },
     "output_type": "display_data"
    }
   ],
   "source": [
    "# see 'What is your current occupation'\n",
    "print(data['What is your current occupation'].isnull().sum())\n",
    "sns.countplot(data['What is your current occupation'])\n",
    "plt.xticks(rotation=45)\n",
    "plt.show()\n",
    "# 29% of value misssing"
   ]
  },
  {
   "cell_type": "code",
   "execution_count": 244,
   "id": "d7f3551f",
   "metadata": {},
   "outputs": [],
   "source": [
    "# seems almost 80% of instances are categories to Unemployed\n",
    "# replace with Unemployed\n",
    "data['What is your current occupation']=data['What is your current occupation'].replace(np.nan,'Unemployed')"
   ]
  },
  {
   "cell_type": "code",
   "execution_count": 245,
   "id": "6ea119ed",
   "metadata": {},
   "outputs": [
    {
     "data": {
      "text/plain": [
       "Mumbai                         3220\n",
       "Thane & Outskirts               751\n",
       "Other Cities                    686\n",
       "Other Cities of Maharashtra     456\n",
       "Other Metro Cities              379\n",
       "Tier II Cities                   74\n",
       "Name: City, dtype: int64"
      ]
     },
     "execution_count": 245,
     "metadata": {},
     "output_type": "execute_result"
    }
   ],
   "source": [
    "# city 40% value missing\n",
    "data[\"City\"].value_counts()"
   ]
  },
  {
   "cell_type": "code",
   "execution_count": 246,
   "id": "9d6b9c46",
   "metadata": {},
   "outputs": [],
   "source": [
    "# most of data from Mumbai \n",
    "# replace null with Mimbai\n",
    "data['City']=data['City'].replace(np.nan,'Mumbai')"
   ]
  },
  {
   "cell_type": "code",
   "execution_count": 247,
   "id": "fed3a0d5",
   "metadata": {},
   "outputs": [
    {
     "data": {
      "text/plain": [
       "India                   6491\n",
       "United States             69\n",
       "United Arab Emirates      53\n",
       "Singapore                 24\n",
       "Saudi Arabia              21\n",
       "United Kingdom            15\n",
       "Australia                 13\n",
       "Qatar                     10\n",
       "Hong Kong                  7\n",
       "Bahrain                    7\n",
       "Oman                       6\n",
       "France                     6\n",
       "unknown                    5\n",
       "South Africa               4\n",
       "Nigeria                    4\n",
       "Germany                    4\n",
       "Kuwait                     4\n",
       "Canada                     4\n",
       "Sweden                     3\n",
       "China                      2\n",
       "Asia/Pacific Region        2\n",
       "Uganda                     2\n",
       "Bangladesh                 2\n",
       "Italy                      2\n",
       "Belgium                    2\n",
       "Netherlands                2\n",
       "Ghana                      2\n",
       "Philippines                2\n",
       "Russia                     1\n",
       "Switzerland                1\n",
       "Vietnam                    1\n",
       "Denmark                    1\n",
       "Tanzania                   1\n",
       "Liberia                    1\n",
       "Malaysia                   1\n",
       "Kenya                      1\n",
       "Sri Lanka                  1\n",
       "Indonesia                  1\n",
       "Name: Country, dtype: int64"
      ]
     },
     "execution_count": 247,
     "metadata": {},
     "output_type": "execute_result"
    }
   ],
   "source": [
    "# country\n",
    "#29% we have missing values\n",
    "data['Country'].value_counts()"
   ]
  },
  {
   "cell_type": "code",
   "execution_count": 248,
   "id": "90cf460c",
   "metadata": {},
   "outputs": [],
   "source": [
    "# almost 98% instance from INDIA\n",
    "# replace missing with india\n",
    "data['Country']=data['Country'].replace(np.nan,'India')"
   ]
  },
  {
   "cell_type": "code",
   "execution_count": 249,
   "id": "67af27c4",
   "metadata": {},
   "outputs": [
    {
     "data": {
      "text/plain": [
       "Prospect ID                                 0.0\n",
       "Lead Number                                 0.0\n",
       "Lead Origin                                 0.0\n",
       "Lead Source                                 0.0\n",
       "Do Not Email                                0.0\n",
       "Do Not Call                                 0.0\n",
       "Converted                                   0.0\n",
       "TotalVisits                                 1.0\n",
       "Total Time Spent on Website                 0.0\n",
       "Page Views Per Visit                        1.0\n",
       "Last Activity                               1.0\n",
       "Country                                     0.0\n",
       "Specialization                              0.0\n",
       "What is your current occupation             0.0\n",
       "Search                                      0.0\n",
       "Magazine                                    0.0\n",
       "Newspaper Article                           0.0\n",
       "X Education Forums                          0.0\n",
       "Newspaper                                   0.0\n",
       "Digital Advertisement                       0.0\n",
       "Through Recommendations                     0.0\n",
       "Receive More Updates About Our Courses      0.0\n",
       "Tags                                        0.0\n",
       "Update me on Supply Chain Content           0.0\n",
       "Get updates on DM Content                   0.0\n",
       "City                                        0.0\n",
       "I agree to pay the amount through cheque    0.0\n",
       "A free copy of Mastering The Interview      0.0\n",
       "Last Notable Activity                       0.0\n",
       "dtype: float64"
      ]
     },
     "execution_count": 249,
     "metadata": {},
     "output_type": "execute_result"
    }
   ],
   "source": [
    "# see again missing values\n",
    "round(data.isnull().sum()/len(data.index),2)*100"
   ]
  },
  {
   "cell_type": "code",
   "execution_count": 250,
   "id": "525c3c7b",
   "metadata": {},
   "outputs": [
    {
     "data": {
      "text/plain": [
       "Prospect ID                                 0\n",
       "Lead Number                                 0\n",
       "Lead Origin                                 0\n",
       "Lead Source                                 0\n",
       "Do Not Email                                0\n",
       "Do Not Call                                 0\n",
       "Converted                                   0\n",
       "TotalVisits                                 0\n",
       "Total Time Spent on Website                 0\n",
       "Page Views Per Visit                        0\n",
       "Last Activity                               0\n",
       "Country                                     0\n",
       "Specialization                              0\n",
       "What is your current occupation             0\n",
       "Search                                      0\n",
       "Magazine                                    0\n",
       "Newspaper Article                           0\n",
       "X Education Forums                          0\n",
       "Newspaper                                   0\n",
       "Digital Advertisement                       0\n",
       "Through Recommendations                     0\n",
       "Receive More Updates About Our Courses      0\n",
       "Tags                                        0\n",
       "Update me on Supply Chain Content           0\n",
       "Get updates on DM Content                   0\n",
       "City                                        0\n",
       "I agree to pay the amount through cheque    0\n",
       "A free copy of Mastering The Interview      0\n",
       "Last Notable Activity                       0\n",
       "dtype: int64"
      ]
     },
     "execution_count": 250,
     "metadata": {},
     "output_type": "execute_result"
    }
   ],
   "source": [
    "# rest are under 1% missing values \n",
    "data = data.dropna()\n",
    "data.isnull().sum()"
   ]
  },
  {
   "cell_type": "code",
   "execution_count": 251,
   "id": "b7bf34ba",
   "metadata": {},
   "outputs": [
    {
     "data": {
      "image/png": "[encoded data removed]",
      "text/plain": [
       "<Figure size 432x288 with 1 Axes>"
      ]
     },
     "metadata": {
      "needs_background": "light"
     },
     "output_type": "display_data"
    }
   ],
   "source": [
    "# Converted\n",
    "sns.countplot(data['Converted'])\n",
    "plt.xticks(rotation=45)\n",
    "plt.show()\n",
    "# ratio seems to be 60:40 not converted: converted"
   ]
  },
  {
   "cell_type": "code",
   "execution_count": 252,
   "id": "e25cb4d6",
   "metadata": {},
   "outputs": [
    {
     "data": {
      "image/png": "[encoded data removed]",
      "text/plain": [
       "<Figure size 1440x576 with 6 Axes>"
      ]
     },
     "metadata": {
      "needs_background": "light"
     },
     "output_type": "display_data"
    }
   ],
   "source": [
    "# TotalVisit,  Page Vews per Visit and Total Time spent on Website\n",
    "data.hist(figsize=(20,8))\n",
    "plt.show()"
   ]
  },
  {
   "cell_type": "code",
   "execution_count": 253,
   "id": "3dd28c81",
   "metadata": {},
   "outputs": [
    {
     "data": {
      "image/png": "[encoded data removed]",
      "text/plain": [
       "<Figure size 432x288 with 1 Axes>"
      ]
     },
     "metadata": {
      "needs_background": "light"
     },
     "output_type": "display_data"
    }
   ],
   "source": [
    "# we can see there is an outlier in both TotalVisits and Page Views Per Visit\n",
    "plt.boxplot(data['TotalVisits'])\n",
    "plt.show()"
   ]
  },
  {
   "cell_type": "code",
   "execution_count": 254,
   "id": "572387ff",
   "metadata": {},
   "outputs": [
    {
     "data": {
      "text/plain": [
       "0.10     0.0\n",
       "0.40     2.0\n",
       "0.60     3.0\n",
       "0.95    10.0\n",
       "0.99    17.0\n",
       "Name: TotalVisits, dtype: float64"
      ]
     },
     "execution_count": 254,
     "metadata": {},
     "output_type": "execute_result"
    }
   ],
   "source": [
    "data[\"TotalVisits\"].quantile([.10,.4,.6,.95,.99])"
   ]
  },
  {
   "cell_type": "code",
   "execution_count": 255,
   "id": "354ac992",
   "metadata": {},
   "outputs": [],
   "source": [
    "# remove below and above .05 and .95 respectvely \n",
    "perc = data['TotalVisits'].quantile([0.05,0.95]).values\n",
    "data['TotalVisits'][data['TotalVisits'] <= perc[0]] = perc[0]\n",
    "data['TotalVisits'][data['TotalVisits'] >= perc[1]] = perc[1]"
   ]
  },
  {
   "cell_type": "code",
   "execution_count": 256,
   "id": "c2953431",
   "metadata": {},
   "outputs": [
    {
     "data": {
      "image/png": "[encoded data removed]",
      "text/plain": [
       "<Figure size 432x288 with 1 Axes>"
      ]
     },
     "metadata": {
      "needs_background": "light"
     },
     "output_type": "display_data"
    }
   ],
   "source": [
    "sns.boxplot(y = 'TotalVisits', x = 'Converted', data = data,palette='Set1')\n",
    "plt.show()"
   ]
  },
  {
   "cell_type": "code",
   "execution_count": 257,
   "id": "e4c4101d",
   "metadata": {},
   "outputs": [
    {
     "data": {
      "text/plain": [
       "0.10    0.0\n",
       "0.40    2.0\n",
       "0.60    2.5\n",
       "0.95    6.0\n",
       "0.99    9.0\n",
       "Name: Page Views Per Visit, dtype: float64"
      ]
     },
     "execution_count": 257,
     "metadata": {},
     "output_type": "execute_result"
    }
   ],
   "source": [
    "# Page Views Per Visit\n",
    "data[\"Page Views Per Visit\"].quantile([.10,.4,.6,.95,.99])"
   ]
  },
  {
   "cell_type": "code",
   "execution_count": 258,
   "id": "a126a33e",
   "metadata": {},
   "outputs": [],
   "source": [
    "# remove below and above .05 and .95 respectvely \n",
    "perc = data['Page Views Per Visit'].quantile([0.05,0.95]).values\n",
    "data['Page Views Per Visit'][data['Page Views Per Visit'] <= perc[0]] = perc[0]\n",
    "data['Page Views Per Visit'][data['Page Views Per Visit'] >= perc[1]] = perc[1]"
   ]
  },
  {
   "cell_type": "code",
   "execution_count": 259,
   "id": "6c93f31d",
   "metadata": {},
   "outputs": [
    {
     "data": {
      "text/plain": [
       "count             9074\n",
       "unique              17\n",
       "top       Email Opened\n",
       "freq              3432\n",
       "Name: Last Activity, dtype: object"
      ]
     },
     "execution_count": 259,
     "metadata": {},
     "output_type": "execute_result"
    }
   ],
   "source": [
    "# Last Activity\n",
    "data['Last Activity'].describe()"
   ]
  },
  {
   "cell_type": "code",
   "execution_count": 260,
   "id": "c600dfc5",
   "metadata": {},
   "outputs": [
    {
     "data": {
      "image/png": "[encoded data removed]",
      "text/plain": [
       "<Figure size 1080x432 with 1 Axes>"
      ]
     },
     "metadata": {
      "needs_background": "light"
     },
     "output_type": "display_data"
    }
   ],
   "source": [
    "plt.figure(figsize=(15,6))\n",
    "sns.countplot(x = \"Last Activity\", hue = \"Converted\", data = data,palette='Set1')\n",
    "plt.xticks(rotation = 90)\n",
    "plt.show()"
   ]
  },
  {
   "cell_type": "code",
   "execution_count": 261,
   "id": "b8327bbe",
   "metadata": {},
   "outputs": [],
   "source": [
    "# many instance having very few instance , Let's put them into Otheres together\n",
    "data['Last Activity'] = data['Last Activity'].replace(['Had a Phone Conversation', 'View in browser link Clicked', \n",
    "                                                       'Visited Booth in Tradeshow', 'Approached upfront',\n",
    "                                                       'Resubscribed to emails','Email Received', 'Email Marked Spam'],\n",
    "                                                      'Other_Activity')"
   ]
  },
  {
   "cell_type": "code",
   "execution_count": 262,
   "id": "318511ac",
   "metadata": {},
   "outputs": [
    {
     "data": {
      "image/png": "[encoded data removed]",
      "text/plain": [
       "<Figure size 432x288 with 1 Axes>"
      ]
     },
     "metadata": {
      "needs_background": "light"
     },
     "output_type": "display_data"
    }
   ],
   "source": [
    "# Search\n",
    "sns.countplot(x = \"Search\", hue = \"Converted\", data = data,palette='Set1')\n",
    "plt.xticks(rotation = 90)\n",
    "plt.show()\n",
    "# "
   ]
  },
  {
   "cell_type": "code",
   "execution_count": 263,
   "id": "8736aa50",
   "metadata": {},
   "outputs": [],
   "source": [
    "binary_col = ['Search' , 'Magazine', 'Newspaper Article', 'X Education Forums', 'Newspaper', 'Digital Advertisement','Through Recommendations',\n",
    "               'Receive More Updates About Our Courses','Update me on Supply Chain Content','Get updates on DM Content','I agree to pay the amount through cheque',\n",
    "             'A free copy of Mastering The Interview']"
   ]
  },
  {
   "cell_type": "code",
   "execution_count": 264,
   "id": "25788cff",
   "metadata": {},
   "outputs": [
    {
     "data": {
      "image/png": "[encoded data removed]",
      "text/plain": [
       "<Figure size 432x288 with 1 Axes>"
      ]
     },
     "metadata": {
      "needs_background": "light"
     },
     "output_type": "display_data"
    },
    {
     "data": {
      "image/png": "[encoded data removed]",
      "text/plain": [
       "<Figure size 432x288 with 1 Axes>"
      ]
     },
     "metadata": {
      "needs_background": "light"
     },
     "output_type": "display_data"
    },
    {
     "data": {
      "image/png": "[encoded data removed]",
      "text/plain": [
       "<Figure size 432x288 with 1 Axes>"
      ]
     },
     "metadata": {
      "needs_background": "light"
     },
     "output_type": "display_data"
    },
    {
     "data": {
      "image/png": "[encoded data removed]",
      "text/plain": [
       "<Figure size 432x288 with 1 Axes>"
      ]
     },
     "metadata": {
      "needs_background": "light"
     },
     "output_type": "display_data"
    },
    {
     "data": {
      "image/png": "[encoded data removed]",
      "text/plain": [
       "<Figure size 432x288 with 1 Axes>"
      ]
     },
     "metadata": {
      "needs_background": "light"
     },
     "output_type": "display_data"
    },
    {
     "data": {
      "image/png": "[encoded data removed]",
      "text/plain": [
       "<Figure size 432x288 with 1 Axes>"
      ]
     },
     "metadata": {
      "needs_background": "light"
     },
     "output_type": "display_data"
    },
    {
     "data": {
      "image/png": "[encoded data removed]",
      "text/plain": [
       "<Figure size 432x288 with 1 Axes>"
      ]
     },
     "metadata": {
      "needs_background": "light"
     },
     "output_type": "display_data"
    },
    {
     "data": {
      "image/png": "[encoded data removed]",
      "text/plain": [
       "<Figure size 432x288 with 1 Axes>"
      ]
     },
     "metadata": {
      "needs_background": "light"
     },
     "output_type": "display_data"
    },
    {
     "data": {
      "image/png": "[encoded data removed]",
      "text/plain": [
       "<Figure size 432x288 with 1 Axes>"
      ]
     },
     "metadata": {
      "needs_background": "light"
     },
     "output_type": "display_data"
    },
    {
     "data": {
      "image/png": "[encoded data removed]",
      "text/plain": [
       "<Figure size 432x288 with 1 Axes>"
      ]
     },
     "metadata": {
      "needs_background": "light"
     },
     "output_type": "display_data"
    },
    {
     "data": {
      "image/png": "[encoded data removed]",
      "text/plain": [
       "<Figure size 432x288 with 1 Axes>"
      ]
     },
     "metadata": {
      "needs_background": "light"
     },
     "output_type": "display_data"
    },
    {
     "data": {
      "image/png": "[encoded data removed]",
      "text/plain": [
       "<Figure size 432x288 with 1 Axes>"
      ]
     },
     "metadata": {
      "needs_background": "light"
     },
     "output_type": "display_data"
    }
   ],
   "source": [
    "# list all binary category and plot at once\n",
    "for i, feature in enumerate(binary_col):\n",
    "    sns.countplot(x = data[feature],hue = \"Converted\", data = data,palette='Set1')\n",
    "    plt.show()"
   ]
  },
  {
   "cell_type": "code",
   "execution_count": 265,
   "id": "84da542f",
   "metadata": {},
   "outputs": [
    {
     "name": "stdout",
     "output_type": "stream",
     "text": [
      "<class 'pandas.core.frame.DataFrame'>\n",
      "Int64Index: 9074 entries, 0 to 9239\n",
      "Data columns (total 14 columns):\n",
      " #   Column                           Non-Null Count  Dtype  \n",
      "---  ------                           --------------  -----  \n",
      " 0   Prospect ID                      9074 non-null   object \n",
      " 1   Lead Origin                      9074 non-null   object \n",
      " 2   Lead Source                      9074 non-null   object \n",
      " 3   Do Not Email                     9074 non-null   object \n",
      " 4   Do Not Call                      9074 non-null   object \n",
      " 5   Converted                        9074 non-null   int64  \n",
      " 6   TotalVisits                      9074 non-null   float64\n",
      " 7   Total Time Spent on Website      9074 non-null   int64  \n",
      " 8   Page Views Per Visit             9074 non-null   float64\n",
      " 9   Last Activity                    9074 non-null   object \n",
      " 10  Specialization                   9074 non-null   object \n",
      " 11  What is your current occupation  9074 non-null   object \n",
      " 12  City                             9074 non-null   object \n",
      " 13  Last Notable Activity            9074 non-null   object \n",
      "dtypes: float64(2), int64(2), object(10)\n",
      "memory usage: 1.0+ MB\n"
     ]
    }
   ],
   "source": [
    "# based on analysis we see that below attributes are not relevent and not adding any information to our task, so Drop it.\n",
    "col_drop = ['Lead Number','Tags','Country','Search','Magazine','Newspaper Article','X Education Forums',\n",
    "                            'Newspaper','Digital Advertisement','Through Recommendations','Receive More Updates About Our Courses',\n",
    "                            'Update me on Supply Chain Content','Get updates on DM Content','I agree to pay the amount through cheque',\n",
    "                            'A free copy of Mastering The Interview']\n",
    "data = data.drop(col_drop, axis=1)\n",
    "data.info()"
   ]
  },
  {
   "cell_type": "code",
   "execution_count": 266,
   "id": "559b6422",
   "metadata": {},
   "outputs": [
    {
     "data": {
      "text/html": [
       "<div>\n",
       "<style scoped>\n",
       "    .dataframe tbody tr th:only-of-type {\n",
       "        vertical-align: middle;\n",
       "    }\n",
       "\n",
       "    .dataframe tbody tr th {\n",
       "        vertical-align: top;\n",
       "    }\n",
       "\n",
       "    .dataframe thead th {\n",
       "        text-align: right;\n",
       "    }\n",
       "</style>\n",
       "<table border=\"1\" class=\"dataframe\">\n",
       "  <thead>\n",
       "    <tr style=\"text-align: right;\">\n",
       "      <th></th>\n",
       "      <th>Prospect ID</th>\n",
       "      <th>Lead Origin</th>\n",
       "      <th>Lead Source</th>\n",
       "      <th>Do Not Email</th>\n",
       "      <th>Do Not Call</th>\n",
       "      <th>Converted</th>\n",
       "      <th>TotalVisits</th>\n",
       "      <th>Total Time Spent on Website</th>\n",
       "      <th>Page Views Per Visit</th>\n",
       "      <th>Last Activity</th>\n",
       "      <th>Specialization</th>\n",
       "      <th>What is your current occupation</th>\n",
       "      <th>City</th>\n",
       "      <th>Last Notable Activity</th>\n",
       "    </tr>\n",
       "  </thead>\n",
       "  <tbody>\n",
       "    <tr>\n",
       "      <th>0</th>\n",
       "      <td>7927b2df-8bba-4d29-b9a2-b6e0beafe620</td>\n",
       "      <td>API</td>\n",
       "      <td>Olark Chat</td>\n",
       "      <td>No</td>\n",
       "      <td>No</td>\n",
       "      <td>0</td>\n",
       "      <td>0.0</td>\n",
       "      <td>0</td>\n",
       "      <td>0.0</td>\n",
       "      <td>Page Visited on Website</td>\n",
       "      <td>Others</td>\n",
       "      <td>Unemployed</td>\n",
       "      <td>Mumbai</td>\n",
       "      <td>Modified</td>\n",
       "    </tr>\n",
       "    <tr>\n",
       "      <th>1</th>\n",
       "      <td>2a272436-5132-4136-86fa-dcc88c88f482</td>\n",
       "      <td>API</td>\n",
       "      <td>Organic Search</td>\n",
       "      <td>No</td>\n",
       "      <td>No</td>\n",
       "      <td>0</td>\n",
       "      <td>5.0</td>\n",
       "      <td>674</td>\n",
       "      <td>2.5</td>\n",
       "      <td>Email Opened</td>\n",
       "      <td>Others</td>\n",
       "      <td>Unemployed</td>\n",
       "      <td>Mumbai</td>\n",
       "      <td>Email Opened</td>\n",
       "    </tr>\n",
       "    <tr>\n",
       "      <th>2</th>\n",
       "      <td>8cc8c611-a219-4f35-ad23-fdfd2656bd8a</td>\n",
       "      <td>Landing Page Submission</td>\n",
       "      <td>Direct Traffic</td>\n",
       "      <td>No</td>\n",
       "      <td>No</td>\n",
       "      <td>1</td>\n",
       "      <td>2.0</td>\n",
       "      <td>1532</td>\n",
       "      <td>2.0</td>\n",
       "      <td>Email Opened</td>\n",
       "      <td>Business Administration</td>\n",
       "      <td>Student</td>\n",
       "      <td>Mumbai</td>\n",
       "      <td>Email Opened</td>\n",
       "    </tr>\n",
       "    <tr>\n",
       "      <th>3</th>\n",
       "      <td>0cc2df48-7cf4-4e39-9de9-19797f9b38cc</td>\n",
       "      <td>Landing Page Submission</td>\n",
       "      <td>Direct Traffic</td>\n",
       "      <td>No</td>\n",
       "      <td>No</td>\n",
       "      <td>0</td>\n",
       "      <td>1.0</td>\n",
       "      <td>305</td>\n",
       "      <td>1.0</td>\n",
       "      <td>Unreachable</td>\n",
       "      <td>Media and Advertising</td>\n",
       "      <td>Unemployed</td>\n",
       "      <td>Mumbai</td>\n",
       "      <td>Modified</td>\n",
       "    </tr>\n",
       "    <tr>\n",
       "      <th>4</th>\n",
       "      <td>3256f628-e534-4826-9d63-4a8b88782852</td>\n",
       "      <td>Landing Page Submission</td>\n",
       "      <td>Google</td>\n",
       "      <td>No</td>\n",
       "      <td>No</td>\n",
       "      <td>1</td>\n",
       "      <td>2.0</td>\n",
       "      <td>1428</td>\n",
       "      <td>1.0</td>\n",
       "      <td>Converted to Lead</td>\n",
       "      <td>Others</td>\n",
       "      <td>Unemployed</td>\n",
       "      <td>Mumbai</td>\n",
       "      <td>Modified</td>\n",
       "    </tr>\n",
       "  </tbody>\n",
       "</table>\n",
       "</div>"
      ],
      "text/plain": [
       "                            Prospect ID              Lead Origin  \\\n",
       "0  7927b2df-8bba-4d29-b9a2-b6e0beafe620                      API   \n",
       "1  2a272436-5132-4136-86fa-dcc88c88f482                      API   \n",
       "2  8cc8c611-a219-4f35-ad23-fdfd2656bd8a  Landing Page Submission   \n",
       "3  0cc2df48-7cf4-4e39-9de9-19797f9b38cc  Landing Page Submission   \n",
       "4  3256f628-e534-4826-9d63-4a8b88782852  Landing Page Submission   \n",
       "\n",
       "      Lead Source Do Not Email Do Not Call  Converted  TotalVisits  \\\n",
       "0      Olark Chat           No          No          0          0.0   \n",
       "1  Organic Search           No          No          0          5.0   \n",
       "2  Direct Traffic           No          No          1          2.0   \n",
       "3  Direct Traffic           No          No          0          1.0   \n",
       "4          Google           No          No          1          2.0   \n",
       "\n",
       "   Total Time Spent on Website  Page Views Per Visit            Last Activity  \\\n",
       "0                            0                   0.0  Page Visited on Website   \n",
       "1                          674                   2.5             Email Opened   \n",
       "2                         1532                   2.0             Email Opened   \n",
       "3                          305                   1.0              Unreachable   \n",
       "4                         1428                   1.0        Converted to Lead   \n",
       "\n",
       "            Specialization What is your current occupation    City  \\\n",
       "0                   Others                      Unemployed  Mumbai   \n",
       "1                   Others                      Unemployed  Mumbai   \n",
       "2  Business Administration                         Student  Mumbai   \n",
       "3    Media and Advertising                      Unemployed  Mumbai   \n",
       "4                   Others                      Unemployed  Mumbai   \n",
       "\n",
       "  Last Notable Activity  \n",
       "0              Modified  \n",
       "1          Email Opened  \n",
       "2          Email Opened  \n",
       "3              Modified  \n",
       "4              Modified  "
      ]
     },
     "execution_count": 266,
     "metadata": {},
     "output_type": "execute_result"
    }
   ],
   "source": [
    "# final data frame we got\n",
    "data.head()"
   ]
  },
  {
   "cell_type": "markdown",
   "id": "9006464b",
   "metadata": {},
   "source": [
    "# Data preperation for model"
   ]
  },
  {
   "cell_type": "code",
   "execution_count": 267,
   "id": "cdf6b058",
   "metadata": {},
   "outputs": [
    {
     "data": {
      "text/plain": [
       "0    8358\n",
       "1     716\n",
       "Name: Do Not Email, dtype: int64"
      ]
     },
     "execution_count": 267,
     "metadata": {},
     "output_type": "execute_result"
    }
   ],
   "source": [
    "#convert yes and no to 0 and 1\n",
    "data['Do Not Email'] = data['Do Not Email'].apply(lambda x : 1 if x == 'Yes' else 0)\n",
    "data['Do Not Email'].value_counts()"
   ]
  },
  {
   "cell_type": "code",
   "execution_count": 268,
   "id": "f9069733",
   "metadata": {},
   "outputs": [
    {
     "data": {
      "text/plain": [
       "0    9072\n",
       "1       2\n",
       "Name: Do Not Call, dtype: int64"
      ]
     },
     "execution_count": 268,
     "metadata": {},
     "output_type": "execute_result"
    }
   ],
   "source": [
    "#convert yes and no to 0 and 1\n",
    "data['Do Not Call'] = data['Do Not Call'].apply(lambda x : 1 if x == 'Yes' else 0)\n",
    "data['Do Not Call'].value_counts()"
   ]
  },
  {
   "cell_type": "code",
   "execution_count": 269,
   "id": "ae09732b",
   "metadata": {},
   "outputs": [
    {
     "data": {
      "text/html": [
       "<div>\n",
       "<style scoped>\n",
       "    .dataframe tbody tr th:only-of-type {\n",
       "        vertical-align: middle;\n",
       "    }\n",
       "\n",
       "    .dataframe tbody tr th {\n",
       "        vertical-align: top;\n",
       "    }\n",
       "\n",
       "    .dataframe thead th {\n",
       "        text-align: right;\n",
       "    }\n",
       "</style>\n",
       "<table border=\"1\" class=\"dataframe\">\n",
       "  <thead>\n",
       "    <tr style=\"text-align: right;\">\n",
       "      <th></th>\n",
       "      <th>Lead Origin_Landing Page Submission</th>\n",
       "      <th>Lead Origin_Lead Add Form</th>\n",
       "      <th>Lead Origin_Lead Import</th>\n",
       "      <th>Lead Source_Direct Traffic</th>\n",
       "      <th>Lead Source_Facebook</th>\n",
       "      <th>Lead Source_Google</th>\n",
       "      <th>Lead Source_Live Chat</th>\n",
       "      <th>Lead Source_NC_EDM</th>\n",
       "      <th>Lead Source_Olark Chat</th>\n",
       "      <th>Lead Source_Organic Search</th>\n",
       "      <th>...</th>\n",
       "      <th>Last Notable Activity_Form Submitted on Website</th>\n",
       "      <th>Last Notable Activity_Had a Phone Conversation</th>\n",
       "      <th>Last Notable Activity_Modified</th>\n",
       "      <th>Last Notable Activity_Olark Chat Conversation</th>\n",
       "      <th>Last Notable Activity_Page Visited on Website</th>\n",
       "      <th>Last Notable Activity_Resubscribed to emails</th>\n",
       "      <th>Last Notable Activity_SMS Sent</th>\n",
       "      <th>Last Notable Activity_Unreachable</th>\n",
       "      <th>Last Notable Activity_Unsubscribed</th>\n",
       "      <th>Last Notable Activity_View in browser link Clicked</th>\n",
       "    </tr>\n",
       "  </thead>\n",
       "  <tbody>\n",
       "    <tr>\n",
       "      <th>0</th>\n",
       "      <td>0</td>\n",
       "      <td>0</td>\n",
       "      <td>0</td>\n",
       "      <td>0</td>\n",
       "      <td>0</td>\n",
       "      <td>0</td>\n",
       "      <td>0</td>\n",
       "      <td>0</td>\n",
       "      <td>1</td>\n",
       "      <td>0</td>\n",
       "      <td>...</td>\n",
       "      <td>0</td>\n",
       "      <td>0</td>\n",
       "      <td>1</td>\n",
       "      <td>0</td>\n",
       "      <td>0</td>\n",
       "      <td>0</td>\n",
       "      <td>0</td>\n",
       "      <td>0</td>\n",
       "      <td>0</td>\n",
       "      <td>0</td>\n",
       "    </tr>\n",
       "    <tr>\n",
       "      <th>1</th>\n",
       "      <td>0</td>\n",
       "      <td>0</td>\n",
       "      <td>0</td>\n",
       "      <td>0</td>\n",
       "      <td>0</td>\n",
       "      <td>0</td>\n",
       "      <td>0</td>\n",
       "      <td>0</td>\n",
       "      <td>0</td>\n",
       "      <td>1</td>\n",
       "      <td>...</td>\n",
       "      <td>0</td>\n",
       "      <td>0</td>\n",
       "      <td>0</td>\n",
       "      <td>0</td>\n",
       "      <td>0</td>\n",
       "      <td>0</td>\n",
       "      <td>0</td>\n",
       "      <td>0</td>\n",
       "      <td>0</td>\n",
       "      <td>0</td>\n",
       "    </tr>\n",
       "    <tr>\n",
       "      <th>2</th>\n",
       "      <td>1</td>\n",
       "      <td>0</td>\n",
       "      <td>0</td>\n",
       "      <td>1</td>\n",
       "      <td>0</td>\n",
       "      <td>0</td>\n",
       "      <td>0</td>\n",
       "      <td>0</td>\n",
       "      <td>0</td>\n",
       "      <td>0</td>\n",
       "      <td>...</td>\n",
       "      <td>0</td>\n",
       "      <td>0</td>\n",
       "      <td>0</td>\n",
       "      <td>0</td>\n",
       "      <td>0</td>\n",
       "      <td>0</td>\n",
       "      <td>0</td>\n",
       "      <td>0</td>\n",
       "      <td>0</td>\n",
       "      <td>0</td>\n",
       "    </tr>\n",
       "    <tr>\n",
       "      <th>3</th>\n",
       "      <td>1</td>\n",
       "      <td>0</td>\n",
       "      <td>0</td>\n",
       "      <td>1</td>\n",
       "      <td>0</td>\n",
       "      <td>0</td>\n",
       "      <td>0</td>\n",
       "      <td>0</td>\n",
       "      <td>0</td>\n",
       "      <td>0</td>\n",
       "      <td>...</td>\n",
       "      <td>0</td>\n",
       "      <td>0</td>\n",
       "      <td>1</td>\n",
       "      <td>0</td>\n",
       "      <td>0</td>\n",
       "      <td>0</td>\n",
       "      <td>0</td>\n",
       "      <td>0</td>\n",
       "      <td>0</td>\n",
       "      <td>0</td>\n",
       "    </tr>\n",
       "    <tr>\n",
       "      <th>4</th>\n",
       "      <td>1</td>\n",
       "      <td>0</td>\n",
       "      <td>0</td>\n",
       "      <td>0</td>\n",
       "      <td>0</td>\n",
       "      <td>1</td>\n",
       "      <td>0</td>\n",
       "      <td>0</td>\n",
       "      <td>0</td>\n",
       "      <td>0</td>\n",
       "      <td>...</td>\n",
       "      <td>0</td>\n",
       "      <td>0</td>\n",
       "      <td>1</td>\n",
       "      <td>0</td>\n",
       "      <td>0</td>\n",
       "      <td>0</td>\n",
       "      <td>0</td>\n",
       "      <td>0</td>\n",
       "      <td>0</td>\n",
       "      <td>0</td>\n",
       "    </tr>\n",
       "  </tbody>\n",
       "</table>\n",
       "<p>5 rows × 76 columns</p>\n",
       "</div>"
      ],
      "text/plain": [
       "   Lead Origin_Landing Page Submission  Lead Origin_Lead Add Form  \\\n",
       "0                                    0                          0   \n",
       "1                                    0                          0   \n",
       "2                                    1                          0   \n",
       "3                                    1                          0   \n",
       "4                                    1                          0   \n",
       "\n",
       "   Lead Origin_Lead Import  Lead Source_Direct Traffic  Lead Source_Facebook  \\\n",
       "0                        0                           0                     0   \n",
       "1                        0                           0                     0   \n",
       "2                        0                           1                     0   \n",
       "3                        0                           1                     0   \n",
       "4                        0                           0                     0   \n",
       "\n",
       "   Lead Source_Google  Lead Source_Live Chat  Lead Source_NC_EDM  \\\n",
       "0                   0                      0                   0   \n",
       "1                   0                      0                   0   \n",
       "2                   0                      0                   0   \n",
       "3                   0                      0                   0   \n",
       "4                   1                      0                   0   \n",
       "\n",
       "   Lead Source_Olark Chat  Lead Source_Organic Search  ...  \\\n",
       "0                       1                           0  ...   \n",
       "1                       0                           1  ...   \n",
       "2                       0                           0  ...   \n",
       "3                       0                           0  ...   \n",
       "4                       0                           0  ...   \n",
       "\n",
       "   Last Notable Activity_Form Submitted on Website  \\\n",
       "0                                                0   \n",
       "1                                                0   \n",
       "2                                                0   \n",
       "3                                                0   \n",
       "4                                                0   \n",
       "\n",
       "   Last Notable Activity_Had a Phone Conversation  \\\n",
       "0                                               0   \n",
       "1                                               0   \n",
       "2                                               0   \n",
       "3                                               0   \n",
       "4                                               0   \n",
       "\n",
       "   Last Notable Activity_Modified  \\\n",
       "0                               1   \n",
       "1                               0   \n",
       "2                               0   \n",
       "3                               1   \n",
       "4                               1   \n",
       "\n",
       "   Last Notable Activity_Olark Chat Conversation  \\\n",
       "0                                              0   \n",
       "1                                              0   \n",
       "2                                              0   \n",
       "3                                              0   \n",
       "4                                              0   \n",
       "\n",
       "   Last Notable Activity_Page Visited on Website  \\\n",
       "0                                              0   \n",
       "1                                              0   \n",
       "2                                              0   \n",
       "3                                              0   \n",
       "4                                              0   \n",
       "\n",
       "   Last Notable Activity_Resubscribed to emails  \\\n",
       "0                                             0   \n",
       "1                                             0   \n",
       "2                                             0   \n",
       "3                                             0   \n",
       "4                                             0   \n",
       "\n",
       "   Last Notable Activity_SMS Sent  Last Notable Activity_Unreachable  \\\n",
       "0                               0                                  0   \n",
       "1                               0                                  0   \n",
       "2                               0                                  0   \n",
       "3                               0                                  0   \n",
       "4                               0                                  0   \n",
       "\n",
       "   Last Notable Activity_Unsubscribed  \\\n",
       "0                                   0   \n",
       "1                                   0   \n",
       "2                                   0   \n",
       "3                                   0   \n",
       "4                                   0   \n",
       "\n",
       "   Last Notable Activity_View in browser link Clicked  \n",
       "0                                                  0   \n",
       "1                                                  0   \n",
       "2                                                  0   \n",
       "3                                                  0   \n",
       "4                                                  0   \n",
       "\n",
       "[5 rows x 76 columns]"
      ]
     },
     "execution_count": 269,
     "metadata": {},
     "output_type": "execute_result"
    }
   ],
   "source": [
    "# Creating a dummy for categorical features\n",
    "dummy_data = pd.get_dummies(data[['Lead Origin', 'Lead Source', 'Last Activity', 'Specialization','What is your current occupation',\n",
    "                             'City','Last Notable Activity']], drop_first=True)\n",
    "dummy_data.head()"
   ]
  },
  {
   "cell_type": "code",
   "execution_count": 270,
   "id": "318bd141",
   "metadata": {},
   "outputs": [
    {
     "data": {
      "text/html": [
       "<div>\n",
       "<style scoped>\n",
       "    .dataframe tbody tr th:only-of-type {\n",
       "        vertical-align: middle;\n",
       "    }\n",
       "\n",
       "    .dataframe tbody tr th {\n",
       "        vertical-align: top;\n",
       "    }\n",
       "\n",
       "    .dataframe thead th {\n",
       "        text-align: right;\n",
       "    }\n",
       "</style>\n",
       "<table border=\"1\" class=\"dataframe\">\n",
       "  <thead>\n",
       "    <tr style=\"text-align: right;\">\n",
       "      <th></th>\n",
       "      <th>Prospect ID</th>\n",
       "      <th>Lead Origin</th>\n",
       "      <th>Lead Source</th>\n",
       "      <th>Do Not Email</th>\n",
       "      <th>Do Not Call</th>\n",
       "      <th>Converted</th>\n",
       "      <th>TotalVisits</th>\n",
       "      <th>Total Time Spent on Website</th>\n",
       "      <th>Page Views Per Visit</th>\n",
       "      <th>Last Activity</th>\n",
       "      <th>...</th>\n",
       "      <th>Last Notable Activity_Form Submitted on Website</th>\n",
       "      <th>Last Notable Activity_Had a Phone Conversation</th>\n",
       "      <th>Last Notable Activity_Modified</th>\n",
       "      <th>Last Notable Activity_Olark Chat Conversation</th>\n",
       "      <th>Last Notable Activity_Page Visited on Website</th>\n",
       "      <th>Last Notable Activity_Resubscribed to emails</th>\n",
       "      <th>Last Notable Activity_SMS Sent</th>\n",
       "      <th>Last Notable Activity_Unreachable</th>\n",
       "      <th>Last Notable Activity_Unsubscribed</th>\n",
       "      <th>Last Notable Activity_View in browser link Clicked</th>\n",
       "    </tr>\n",
       "  </thead>\n",
       "  <tbody>\n",
       "    <tr>\n",
       "      <th>0</th>\n",
       "      <td>7927b2df-8bba-4d29-b9a2-b6e0beafe620</td>\n",
       "      <td>API</td>\n",
       "      <td>Olark Chat</td>\n",
       "      <td>0</td>\n",
       "      <td>0</td>\n",
       "      <td>0</td>\n",
       "      <td>0.0</td>\n",
       "      <td>0</td>\n",
       "      <td>0.0</td>\n",
       "      <td>Page Visited on Website</td>\n",
       "      <td>...</td>\n",
       "      <td>0</td>\n",
       "      <td>0</td>\n",
       "      <td>1</td>\n",
       "      <td>0</td>\n",
       "      <td>0</td>\n",
       "      <td>0</td>\n",
       "      <td>0</td>\n",
       "      <td>0</td>\n",
       "      <td>0</td>\n",
       "      <td>0</td>\n",
       "    </tr>\n",
       "    <tr>\n",
       "      <th>1</th>\n",
       "      <td>2a272436-5132-4136-86fa-dcc88c88f482</td>\n",
       "      <td>API</td>\n",
       "      <td>Organic Search</td>\n",
       "      <td>0</td>\n",
       "      <td>0</td>\n",
       "      <td>0</td>\n",
       "      <td>5.0</td>\n",
       "      <td>674</td>\n",
       "      <td>2.5</td>\n",
       "      <td>Email Opened</td>\n",
       "      <td>...</td>\n",
       "      <td>0</td>\n",
       "      <td>0</td>\n",
       "      <td>0</td>\n",
       "      <td>0</td>\n",
       "      <td>0</td>\n",
       "      <td>0</td>\n",
       "      <td>0</td>\n",
       "      <td>0</td>\n",
       "      <td>0</td>\n",
       "      <td>0</td>\n",
       "    </tr>\n",
       "    <tr>\n",
       "      <th>2</th>\n",
       "      <td>8cc8c611-a219-4f35-ad23-fdfd2656bd8a</td>\n",
       "      <td>Landing Page Submission</td>\n",
       "      <td>Direct Traffic</td>\n",
       "      <td>0</td>\n",
       "      <td>0</td>\n",
       "      <td>1</td>\n",
       "      <td>2.0</td>\n",
       "      <td>1532</td>\n",
       "      <td>2.0</td>\n",
       "      <td>Email Opened</td>\n",
       "      <td>...</td>\n",
       "      <td>0</td>\n",
       "      <td>0</td>\n",
       "      <td>0</td>\n",
       "      <td>0</td>\n",
       "      <td>0</td>\n",
       "      <td>0</td>\n",
       "      <td>0</td>\n",
       "      <td>0</td>\n",
       "      <td>0</td>\n",
       "      <td>0</td>\n",
       "    </tr>\n",
       "    <tr>\n",
       "      <th>3</th>\n",
       "      <td>0cc2df48-7cf4-4e39-9de9-19797f9b38cc</td>\n",
       "      <td>Landing Page Submission</td>\n",
       "      <td>Direct Traffic</td>\n",
       "      <td>0</td>\n",
       "      <td>0</td>\n",
       "      <td>0</td>\n",
       "      <td>1.0</td>\n",
       "      <td>305</td>\n",
       "      <td>1.0</td>\n",
       "      <td>Unreachable</td>\n",
       "      <td>...</td>\n",
       "      <td>0</td>\n",
       "      <td>0</td>\n",
       "      <td>1</td>\n",
       "      <td>0</td>\n",
       "      <td>0</td>\n",
       "      <td>0</td>\n",
       "      <td>0</td>\n",
       "      <td>0</td>\n",
       "      <td>0</td>\n",
       "      <td>0</td>\n",
       "    </tr>\n",
       "    <tr>\n",
       "      <th>4</th>\n",
       "      <td>3256f628-e534-4826-9d63-4a8b88782852</td>\n",
       "      <td>Landing Page Submission</td>\n",
       "      <td>Google</td>\n",
       "      <td>0</td>\n",
       "      <td>0</td>\n",
       "      <td>1</td>\n",
       "      <td>2.0</td>\n",
       "      <td>1428</td>\n",
       "      <td>1.0</td>\n",
       "      <td>Converted to Lead</td>\n",
       "      <td>...</td>\n",
       "      <td>0</td>\n",
       "      <td>0</td>\n",
       "      <td>1</td>\n",
       "      <td>0</td>\n",
       "      <td>0</td>\n",
       "      <td>0</td>\n",
       "      <td>0</td>\n",
       "      <td>0</td>\n",
       "      <td>0</td>\n",
       "      <td>0</td>\n",
       "    </tr>\n",
       "  </tbody>\n",
       "</table>\n",
       "<p>5 rows × 90 columns</p>\n",
       "</div>"
      ],
      "text/plain": [
       "                            Prospect ID              Lead Origin  \\\n",
       "0  7927b2df-8bba-4d29-b9a2-b6e0beafe620                      API   \n",
       "1  2a272436-5132-4136-86fa-dcc88c88f482                      API   \n",
       "2  8cc8c611-a219-4f35-ad23-fdfd2656bd8a  Landing Page Submission   \n",
       "3  0cc2df48-7cf4-4e39-9de9-19797f9b38cc  Landing Page Submission   \n",
       "4  3256f628-e534-4826-9d63-4a8b88782852  Landing Page Submission   \n",
       "\n",
       "      Lead Source  Do Not Email  Do Not Call  Converted  TotalVisits  \\\n",
       "0      Olark Chat             0            0          0          0.0   \n",
       "1  Organic Search             0            0          0          5.0   \n",
       "2  Direct Traffic             0            0          1          2.0   \n",
       "3  Direct Traffic             0            0          0          1.0   \n",
       "4          Google             0            0          1          2.0   \n",
       "\n",
       "   Total Time Spent on Website  Page Views Per Visit            Last Activity  \\\n",
       "0                            0                   0.0  Page Visited on Website   \n",
       "1                          674                   2.5             Email Opened   \n",
       "2                         1532                   2.0             Email Opened   \n",
       "3                          305                   1.0              Unreachable   \n",
       "4                         1428                   1.0        Converted to Lead   \n",
       "\n",
       "   ... Last Notable Activity_Form Submitted on Website  \\\n",
       "0  ...                                               0   \n",
       "1  ...                                               0   \n",
       "2  ...                                               0   \n",
       "3  ...                                               0   \n",
       "4  ...                                               0   \n",
       "\n",
       "  Last Notable Activity_Had a Phone Conversation  \\\n",
       "0                                              0   \n",
       "1                                              0   \n",
       "2                                              0   \n",
       "3                                              0   \n",
       "4                                              0   \n",
       "\n",
       "  Last Notable Activity_Modified  \\\n",
       "0                              1   \n",
       "1                              0   \n",
       "2                              0   \n",
       "3                              1   \n",
       "4                              1   \n",
       "\n",
       "  Last Notable Activity_Olark Chat Conversation  \\\n",
       "0                                             0   \n",
       "1                                             0   \n",
       "2                                             0   \n",
       "3                                             0   \n",
       "4                                             0   \n",
       "\n",
       "   Last Notable Activity_Page Visited on Website  \\\n",
       "0                                              0   \n",
       "1                                              0   \n",
       "2                                              0   \n",
       "3                                              0   \n",
       "4                                              0   \n",
       "\n",
       "   Last Notable Activity_Resubscribed to emails  \\\n",
       "0                                             0   \n",
       "1                                             0   \n",
       "2                                             0   \n",
       "3                                             0   \n",
       "4                                             0   \n",
       "\n",
       "   Last Notable Activity_SMS Sent  Last Notable Activity_Unreachable  \\\n",
       "0                               0                                  0   \n",
       "1                               0                                  0   \n",
       "2                               0                                  0   \n",
       "3                               0                                  0   \n",
       "4                               0                                  0   \n",
       "\n",
       "   Last Notable Activity_Unsubscribed  \\\n",
       "0                                   0   \n",
       "1                                   0   \n",
       "2                                   0   \n",
       "3                                   0   \n",
       "4                                   0   \n",
       "\n",
       "   Last Notable Activity_View in browser link Clicked  \n",
       "0                                                  0   \n",
       "1                                                  0   \n",
       "2                                                  0   \n",
       "3                                                  0   \n",
       "4                                                  0   \n",
       "\n",
       "[5 rows x 90 columns]"
      ]
     },
     "execution_count": 270,
     "metadata": {},
     "output_type": "execute_result"
    }
   ],
   "source": [
    "# concat with dataframe\n",
    "data = pd.concat([data, dummy_data], axis=1)\n",
    "data.head()"
   ]
  },
  {
   "cell_type": "code",
   "execution_count": 271,
   "id": "c2e1ead7",
   "metadata": {},
   "outputs": [],
   "source": [
    "# drop original column for which dummy created\n",
    "data = data.drop(['Lead Origin', 'Lead Source', 'Last Activity', 'Specialization','What is your current occupation',\n",
    "                             'City','Last Notable Activity'], axis = 1)"
   ]
  },
  {
   "cell_type": "markdown",
   "id": "3ada5912",
   "metadata": {},
   "source": [
    "# split data for model into train and test"
   ]
  },
  {
   "cell_type": "code",
   "execution_count": 272,
   "id": "9b559182",
   "metadata": {},
   "outputs": [
    {
     "data": {
      "text/html": [
       "<div>\n",
       "<style scoped>\n",
       "    .dataframe tbody tr th:only-of-type {\n",
       "        vertical-align: middle;\n",
       "    }\n",
       "\n",
       "    .dataframe tbody tr th {\n",
       "        vertical-align: top;\n",
       "    }\n",
       "\n",
       "    .dataframe thead th {\n",
       "        text-align: right;\n",
       "    }\n",
       "</style>\n",
       "<table border=\"1\" class=\"dataframe\">\n",
       "  <thead>\n",
       "    <tr style=\"text-align: right;\">\n",
       "      <th></th>\n",
       "      <th>Do Not Email</th>\n",
       "      <th>Do Not Call</th>\n",
       "      <th>TotalVisits</th>\n",
       "      <th>Total Time Spent on Website</th>\n",
       "      <th>Page Views Per Visit</th>\n",
       "      <th>Lead Origin_Landing Page Submission</th>\n",
       "      <th>Lead Origin_Lead Add Form</th>\n",
       "      <th>Lead Origin_Lead Import</th>\n",
       "      <th>Lead Source_Direct Traffic</th>\n",
       "      <th>Lead Source_Facebook</th>\n",
       "      <th>...</th>\n",
       "      <th>Last Notable Activity_Form Submitted on Website</th>\n",
       "      <th>Last Notable Activity_Had a Phone Conversation</th>\n",
       "      <th>Last Notable Activity_Modified</th>\n",
       "      <th>Last Notable Activity_Olark Chat Conversation</th>\n",
       "      <th>Last Notable Activity_Page Visited on Website</th>\n",
       "      <th>Last Notable Activity_Resubscribed to emails</th>\n",
       "      <th>Last Notable Activity_SMS Sent</th>\n",
       "      <th>Last Notable Activity_Unreachable</th>\n",
       "      <th>Last Notable Activity_Unsubscribed</th>\n",
       "      <th>Last Notable Activity_View in browser link Clicked</th>\n",
       "    </tr>\n",
       "  </thead>\n",
       "  <tbody>\n",
       "    <tr>\n",
       "      <th>0</th>\n",
       "      <td>0</td>\n",
       "      <td>0</td>\n",
       "      <td>0.0</td>\n",
       "      <td>0</td>\n",
       "      <td>0.0</td>\n",
       "      <td>0</td>\n",
       "      <td>0</td>\n",
       "      <td>0</td>\n",
       "      <td>0</td>\n",
       "      <td>0</td>\n",
       "      <td>...</td>\n",
       "      <td>0</td>\n",
       "      <td>0</td>\n",
       "      <td>1</td>\n",
       "      <td>0</td>\n",
       "      <td>0</td>\n",
       "      <td>0</td>\n",
       "      <td>0</td>\n",
       "      <td>0</td>\n",
       "      <td>0</td>\n",
       "      <td>0</td>\n",
       "    </tr>\n",
       "    <tr>\n",
       "      <th>1</th>\n",
       "      <td>0</td>\n",
       "      <td>0</td>\n",
       "      <td>5.0</td>\n",
       "      <td>674</td>\n",
       "      <td>2.5</td>\n",
       "      <td>0</td>\n",
       "      <td>0</td>\n",
       "      <td>0</td>\n",
       "      <td>0</td>\n",
       "      <td>0</td>\n",
       "      <td>...</td>\n",
       "      <td>0</td>\n",
       "      <td>0</td>\n",
       "      <td>0</td>\n",
       "      <td>0</td>\n",
       "      <td>0</td>\n",
       "      <td>0</td>\n",
       "      <td>0</td>\n",
       "      <td>0</td>\n",
       "      <td>0</td>\n",
       "      <td>0</td>\n",
       "    </tr>\n",
       "    <tr>\n",
       "      <th>2</th>\n",
       "      <td>0</td>\n",
       "      <td>0</td>\n",
       "      <td>2.0</td>\n",
       "      <td>1532</td>\n",
       "      <td>2.0</td>\n",
       "      <td>1</td>\n",
       "      <td>0</td>\n",
       "      <td>0</td>\n",
       "      <td>1</td>\n",
       "      <td>0</td>\n",
       "      <td>...</td>\n",
       "      <td>0</td>\n",
       "      <td>0</td>\n",
       "      <td>0</td>\n",
       "      <td>0</td>\n",
       "      <td>0</td>\n",
       "      <td>0</td>\n",
       "      <td>0</td>\n",
       "      <td>0</td>\n",
       "      <td>0</td>\n",
       "      <td>0</td>\n",
       "    </tr>\n",
       "    <tr>\n",
       "      <th>3</th>\n",
       "      <td>0</td>\n",
       "      <td>0</td>\n",
       "      <td>1.0</td>\n",
       "      <td>305</td>\n",
       "      <td>1.0</td>\n",
       "      <td>1</td>\n",
       "      <td>0</td>\n",
       "      <td>0</td>\n",
       "      <td>1</td>\n",
       "      <td>0</td>\n",
       "      <td>...</td>\n",
       "      <td>0</td>\n",
       "      <td>0</td>\n",
       "      <td>1</td>\n",
       "      <td>0</td>\n",
       "      <td>0</td>\n",
       "      <td>0</td>\n",
       "      <td>0</td>\n",
       "      <td>0</td>\n",
       "      <td>0</td>\n",
       "      <td>0</td>\n",
       "    </tr>\n",
       "    <tr>\n",
       "      <th>4</th>\n",
       "      <td>0</td>\n",
       "      <td>0</td>\n",
       "      <td>2.0</td>\n",
       "      <td>1428</td>\n",
       "      <td>1.0</td>\n",
       "      <td>1</td>\n",
       "      <td>0</td>\n",
       "      <td>0</td>\n",
       "      <td>0</td>\n",
       "      <td>0</td>\n",
       "      <td>...</td>\n",
       "      <td>0</td>\n",
       "      <td>0</td>\n",
       "      <td>1</td>\n",
       "      <td>0</td>\n",
       "      <td>0</td>\n",
       "      <td>0</td>\n",
       "      <td>0</td>\n",
       "      <td>0</td>\n",
       "      <td>0</td>\n",
       "      <td>0</td>\n",
       "    </tr>\n",
       "  </tbody>\n",
       "</table>\n",
       "<p>5 rows × 81 columns</p>\n",
       "</div>"
      ],
      "text/plain": [
       "   Do Not Email  Do Not Call  TotalVisits  Total Time Spent on Website  \\\n",
       "0             0            0          0.0                            0   \n",
       "1             0            0          5.0                          674   \n",
       "2             0            0          2.0                         1532   \n",
       "3             0            0          1.0                          305   \n",
       "4             0            0          2.0                         1428   \n",
       "\n",
       "   Page Views Per Visit  Lead Origin_Landing Page Submission  \\\n",
       "0                   0.0                                    0   \n",
       "1                   2.5                                    0   \n",
       "2                   2.0                                    1   \n",
       "3                   1.0                                    1   \n",
       "4                   1.0                                    1   \n",
       "\n",
       "   Lead Origin_Lead Add Form  Lead Origin_Lead Import  \\\n",
       "0                          0                        0   \n",
       "1                          0                        0   \n",
       "2                          0                        0   \n",
       "3                          0                        0   \n",
       "4                          0                        0   \n",
       "\n",
       "   Lead Source_Direct Traffic  Lead Source_Facebook  ...  \\\n",
       "0                           0                     0  ...   \n",
       "1                           0                     0  ...   \n",
       "2                           1                     0  ...   \n",
       "3                           1                     0  ...   \n",
       "4                           0                     0  ...   \n",
       "\n",
       "   Last Notable Activity_Form Submitted on Website  \\\n",
       "0                                                0   \n",
       "1                                                0   \n",
       "2                                                0   \n",
       "3                                                0   \n",
       "4                                                0   \n",
       "\n",
       "   Last Notable Activity_Had a Phone Conversation  \\\n",
       "0                                               0   \n",
       "1                                               0   \n",
       "2                                               0   \n",
       "3                                               0   \n",
       "4                                               0   \n",
       "\n",
       "   Last Notable Activity_Modified  \\\n",
       "0                               1   \n",
       "1                               0   \n",
       "2                               0   \n",
       "3                               1   \n",
       "4                               1   \n",
       "\n",
       "   Last Notable Activity_Olark Chat Conversation  \\\n",
       "0                                              0   \n",
       "1                                              0   \n",
       "2                                              0   \n",
       "3                                              0   \n",
       "4                                              0   \n",
       "\n",
       "   Last Notable Activity_Page Visited on Website  \\\n",
       "0                                              0   \n",
       "1                                              0   \n",
       "2                                              0   \n",
       "3                                              0   \n",
       "4                                              0   \n",
       "\n",
       "   Last Notable Activity_Resubscribed to emails  \\\n",
       "0                                             0   \n",
       "1                                             0   \n",
       "2                                             0   \n",
       "3                                             0   \n",
       "4                                             0   \n",
       "\n",
       "   Last Notable Activity_SMS Sent  Last Notable Activity_Unreachable  \\\n",
       "0                               0                                  0   \n",
       "1                               0                                  0   \n",
       "2                               0                                  0   \n",
       "3                               0                                  0   \n",
       "4                               0                                  0   \n",
       "\n",
       "   Last Notable Activity_Unsubscribed  \\\n",
       "0                                   0   \n",
       "1                                   0   \n",
       "2                                   0   \n",
       "3                                   0   \n",
       "4                                   0   \n",
       "\n",
       "   Last Notable Activity_View in browser link Clicked  \n",
       "0                                                  0   \n",
       "1                                                  0   \n",
       "2                                                  0   \n",
       "3                                                  0   \n",
       "4                                                  0   \n",
       "\n",
       "[5 rows x 81 columns]"
      ]
     },
     "execution_count": 272,
     "metadata": {},
     "output_type": "execute_result"
    }
   ],
   "source": [
    "from sklearn.model_selection import train_test_split\n",
    "X = data.drop(['Prospect ID','Converted'], axis=1)\n",
    "X.head()"
   ]
  },
  {
   "cell_type": "code",
   "execution_count": 273,
   "id": "c6881e5c",
   "metadata": {},
   "outputs": [
    {
     "data": {
      "text/plain": [
       "0    0\n",
       "1    0\n",
       "2    1\n",
       "3    0\n",
       "4    1\n",
       "Name: Converted, dtype: int64"
      ]
     },
     "execution_count": 273,
     "metadata": {},
     "output_type": "execute_result"
    }
   ],
   "source": [
    "# target\n",
    "y = data['Converted']\n",
    "y.head()"
   ]
  },
  {
   "cell_type": "code",
   "execution_count": 274,
   "id": "090b7dff",
   "metadata": {},
   "outputs": [],
   "source": [
    "# train and test\n",
    "X_train, X_test, y_train, y_test = train_test_split(X, y, train_size=0.7, test_size=0.3, random_state=100)"
   ]
  },
  {
   "cell_type": "markdown",
   "id": "1f49cce5",
   "metadata": {},
   "source": [
    "# Feature Scaling"
   ]
  },
  {
   "cell_type": "code",
   "execution_count": 275,
   "id": "a28a94f2",
   "metadata": {},
   "outputs": [
    {
     "data": {
      "text/html": [
       "<div>\n",
       "<style scoped>\n",
       "    .dataframe tbody tr th:only-of-type {\n",
       "        vertical-align: middle;\n",
       "    }\n",
       "\n",
       "    .dataframe tbody tr th {\n",
       "        vertical-align: top;\n",
       "    }\n",
       "\n",
       "    .dataframe thead th {\n",
       "        text-align: right;\n",
       "    }\n",
       "</style>\n",
       "<table border=\"1\" class=\"dataframe\">\n",
       "  <thead>\n",
       "    <tr style=\"text-align: right;\">\n",
       "      <th></th>\n",
       "      <th>Do Not Email</th>\n",
       "      <th>Do Not Call</th>\n",
       "      <th>TotalVisits</th>\n",
       "      <th>Total Time Spent on Website</th>\n",
       "      <th>Page Views Per Visit</th>\n",
       "      <th>Lead Origin_Landing Page Submission</th>\n",
       "      <th>Lead Origin_Lead Add Form</th>\n",
       "      <th>Lead Origin_Lead Import</th>\n",
       "      <th>Lead Source_Direct Traffic</th>\n",
       "      <th>Lead Source_Facebook</th>\n",
       "      <th>...</th>\n",
       "      <th>Last Notable Activity_Form Submitted on Website</th>\n",
       "      <th>Last Notable Activity_Had a Phone Conversation</th>\n",
       "      <th>Last Notable Activity_Modified</th>\n",
       "      <th>Last Notable Activity_Olark Chat Conversation</th>\n",
       "      <th>Last Notable Activity_Page Visited on Website</th>\n",
       "      <th>Last Notable Activity_Resubscribed to emails</th>\n",
       "      <th>Last Notable Activity_SMS Sent</th>\n",
       "      <th>Last Notable Activity_Unreachable</th>\n",
       "      <th>Last Notable Activity_Unsubscribed</th>\n",
       "      <th>Last Notable Activity_View in browser link Clicked</th>\n",
       "    </tr>\n",
       "  </thead>\n",
       "  <tbody>\n",
       "    <tr>\n",
       "      <th>3009</th>\n",
       "      <td>0</td>\n",
       "      <td>0</td>\n",
       "      <td>-0.432779</td>\n",
       "      <td>-0.160255</td>\n",
       "      <td>-0.155018</td>\n",
       "      <td>1</td>\n",
       "      <td>0</td>\n",
       "      <td>0</td>\n",
       "      <td>1</td>\n",
       "      <td>0</td>\n",
       "      <td>...</td>\n",
       "      <td>0</td>\n",
       "      <td>0</td>\n",
       "      <td>0</td>\n",
       "      <td>0</td>\n",
       "      <td>0</td>\n",
       "      <td>0</td>\n",
       "      <td>0</td>\n",
       "      <td>0</td>\n",
       "      <td>0</td>\n",
       "      <td>0</td>\n",
       "    </tr>\n",
       "    <tr>\n",
       "      <th>1012</th>\n",
       "      <td>1</td>\n",
       "      <td>0</td>\n",
       "      <td>-0.432779</td>\n",
       "      <td>-0.540048</td>\n",
       "      <td>-0.155018</td>\n",
       "      <td>1</td>\n",
       "      <td>0</td>\n",
       "      <td>0</td>\n",
       "      <td>1</td>\n",
       "      <td>0</td>\n",
       "      <td>...</td>\n",
       "      <td>0</td>\n",
       "      <td>0</td>\n",
       "      <td>0</td>\n",
       "      <td>0</td>\n",
       "      <td>0</td>\n",
       "      <td>0</td>\n",
       "      <td>0</td>\n",
       "      <td>0</td>\n",
       "      <td>0</td>\n",
       "      <td>0</td>\n",
       "    </tr>\n",
       "    <tr>\n",
       "      <th>9226</th>\n",
       "      <td>0</td>\n",
       "      <td>0</td>\n",
       "      <td>-1.150329</td>\n",
       "      <td>-0.888650</td>\n",
       "      <td>-1.265540</td>\n",
       "      <td>0</td>\n",
       "      <td>0</td>\n",
       "      <td>0</td>\n",
       "      <td>0</td>\n",
       "      <td>0</td>\n",
       "      <td>...</td>\n",
       "      <td>0</td>\n",
       "      <td>0</td>\n",
       "      <td>1</td>\n",
       "      <td>0</td>\n",
       "      <td>0</td>\n",
       "      <td>0</td>\n",
       "      <td>0</td>\n",
       "      <td>0</td>\n",
       "      <td>0</td>\n",
       "      <td>0</td>\n",
       "    </tr>\n",
       "    <tr>\n",
       "      <th>4750</th>\n",
       "      <td>0</td>\n",
       "      <td>0</td>\n",
       "      <td>-0.432779</td>\n",
       "      <td>1.643304</td>\n",
       "      <td>-0.155018</td>\n",
       "      <td>1</td>\n",
       "      <td>0</td>\n",
       "      <td>0</td>\n",
       "      <td>1</td>\n",
       "      <td>0</td>\n",
       "      <td>...</td>\n",
       "      <td>0</td>\n",
       "      <td>0</td>\n",
       "      <td>0</td>\n",
       "      <td>0</td>\n",
       "      <td>0</td>\n",
       "      <td>0</td>\n",
       "      <td>1</td>\n",
       "      <td>0</td>\n",
       "      <td>0</td>\n",
       "      <td>0</td>\n",
       "    </tr>\n",
       "    <tr>\n",
       "      <th>7987</th>\n",
       "      <td>0</td>\n",
       "      <td>0</td>\n",
       "      <td>0.643547</td>\n",
       "      <td>2.017593</td>\n",
       "      <td>0.122613</td>\n",
       "      <td>1</td>\n",
       "      <td>0</td>\n",
       "      <td>0</td>\n",
       "      <td>1</td>\n",
       "      <td>0</td>\n",
       "      <td>...</td>\n",
       "      <td>0</td>\n",
       "      <td>0</td>\n",
       "      <td>1</td>\n",
       "      <td>0</td>\n",
       "      <td>0</td>\n",
       "      <td>0</td>\n",
       "      <td>0</td>\n",
       "      <td>0</td>\n",
       "      <td>0</td>\n",
       "      <td>0</td>\n",
       "    </tr>\n",
       "  </tbody>\n",
       "</table>\n",
       "<p>5 rows × 81 columns</p>\n",
       "</div>"
      ],
      "text/plain": [
       "      Do Not Email  Do Not Call  TotalVisits  Total Time Spent on Website  \\\n",
       "3009             0            0    -0.432779                    -0.160255   \n",
       "1012             1            0    -0.432779                    -0.540048   \n",
       "9226             0            0    -1.150329                    -0.888650   \n",
       "4750             0            0    -0.432779                     1.643304   \n",
       "7987             0            0     0.643547                     2.017593   \n",
       "\n",
       "      Page Views Per Visit  Lead Origin_Landing Page Submission  \\\n",
       "3009             -0.155018                                    1   \n",
       "1012             -0.155018                                    1   \n",
       "9226             -1.265540                                    0   \n",
       "4750             -0.155018                                    1   \n",
       "7987              0.122613                                    1   \n",
       "\n",
       "      Lead Origin_Lead Add Form  Lead Origin_Lead Import  \\\n",
       "3009                          0                        0   \n",
       "1012                          0                        0   \n",
       "9226                          0                        0   \n",
       "4750                          0                        0   \n",
       "7987                          0                        0   \n",
       "\n",
       "      Lead Source_Direct Traffic  Lead Source_Facebook  ...  \\\n",
       "3009                           1                     0  ...   \n",
       "1012                           1                     0  ...   \n",
       "9226                           0                     0  ...   \n",
       "4750                           1                     0  ...   \n",
       "7987                           1                     0  ...   \n",
       "\n",
       "      Last Notable Activity_Form Submitted on Website  \\\n",
       "3009                                                0   \n",
       "1012                                                0   \n",
       "9226                                                0   \n",
       "4750                                                0   \n",
       "7987                                                0   \n",
       "\n",
       "      Last Notable Activity_Had a Phone Conversation  \\\n",
       "3009                                               0   \n",
       "1012                                               0   \n",
       "9226                                               0   \n",
       "4750                                               0   \n",
       "7987                                               0   \n",
       "\n",
       "      Last Notable Activity_Modified  \\\n",
       "3009                               0   \n",
       "1012                               0   \n",
       "9226                               1   \n",
       "4750                               0   \n",
       "7987                               1   \n",
       "\n",
       "      Last Notable Activity_Olark Chat Conversation  \\\n",
       "3009                                              0   \n",
       "1012                                              0   \n",
       "9226                                              0   \n",
       "4750                                              0   \n",
       "7987                                              0   \n",
       "\n",
       "      Last Notable Activity_Page Visited on Website  \\\n",
       "3009                                              0   \n",
       "1012                                              0   \n",
       "9226                                              0   \n",
       "4750                                              0   \n",
       "7987                                              0   \n",
       "\n",
       "      Last Notable Activity_Resubscribed to emails  \\\n",
       "3009                                             0   \n",
       "1012                                             0   \n",
       "9226                                             0   \n",
       "4750                                             0   \n",
       "7987                                             0   \n",
       "\n",
       "      Last Notable Activity_SMS Sent  Last Notable Activity_Unreachable  \\\n",
       "3009                               0                                  0   \n",
       "1012                               0                                  0   \n",
       "9226                               0                                  0   \n",
       "4750                               1                                  0   \n",
       "7987                               0                                  0   \n",
       "\n",
       "      Last Notable Activity_Unsubscribed  \\\n",
       "3009                                   0   \n",
       "1012                                   0   \n",
       "9226                                   0   \n",
       "4750                                   0   \n",
       "7987                                   0   \n",
       "\n",
       "      Last Notable Activity_View in browser link Clicked  \n",
       "3009                                                  0   \n",
       "1012                                                  0   \n",
       "9226                                                  0   \n",
       "4750                                                  0   \n",
       "7987                                                  0   \n",
       "\n",
       "[5 rows x 81 columns]"
      ]
     },
     "execution_count": 275,
     "metadata": {},
     "output_type": "execute_result"
    }
   ],
   "source": [
    "from sklearn.preprocessing import StandardScaler\n",
    "\n",
    "scaler = StandardScaler()\n",
    "\n",
    "X_train[['TotalVisits','Total Time Spent on Website',\n",
    "         'Page Views Per Visit']] = scaler.fit_transform(X_train[['TotalVisits','Total Time Spent on Website',\n",
    "                                                                  'Page Views Per Visit']])\n",
    "\n",
    "X_train.head()"
   ]
  },
  {
   "cell_type": "markdown",
   "id": "105f3daa",
   "metadata": {},
   "source": [
    "# Feature Engineering"
   ]
  },
  {
   "cell_type": "code",
   "execution_count": 276,
   "id": "b6500a0b",
   "metadata": {},
   "outputs": [],
   "source": [
    "# using RFE\n",
    "from sklearn.linear_model import LogisticRegression\n",
    "logreg = LogisticRegression()\n",
    "\n",
    "from sklearn.feature_selection import RFE\n",
    "rfe = RFE(logreg)         \n",
    "rfe = rfe.fit(X_train, y_train)"
   ]
  },
  {
   "cell_type": "code",
   "execution_count": 277,
   "id": "a873d8cd",
   "metadata": {},
   "outputs": [
    {
     "data": {
      "text/plain": [
       "array([ True,  True, False,  True, False,  True,  True,  True,  True,\n",
       "       False,  True, False, False,  True,  True, False, False,  True,\n",
       "        True,  True, False,  True, False,  True,  True, False, False,\n",
       "       False, False, False,  True, False,  True,  True,  True,  True,\n",
       "        True,  True, False, False, False, False, False,  True, False,\n",
       "       False, False, False, False, False,  True, False, False, False,\n",
       "       False, False,  True, False,  True,  True,  True, False, False,\n",
       "       False, False,  True, False,  True, False,  True, False, False,\n",
       "        True,  True,  True,  True, False,  True,  True,  True,  True])"
      ]
     },
     "execution_count": 277,
     "metadata": {},
     "output_type": "execute_result"
    }
   ],
   "source": [
    "rfe.support_"
   ]
  },
  {
   "cell_type": "code",
   "execution_count": 278,
   "id": "952b0403",
   "metadata": {},
   "outputs": [
    {
     "data": {
      "text/plain": [
       "[('Do Not Email', True, 1),\n",
       " ('Do Not Call', True, 1),\n",
       " ('TotalVisits', False, 9),\n",
       " ('Total Time Spent on Website', True, 1),\n",
       " ('Page Views Per Visit', False, 8),\n",
       " ('Lead Origin_Landing Page Submission', True, 1),\n",
       " ('Lead Origin_Lead Add Form', True, 1),\n",
       " ('Lead Origin_Lead Import', True, 1),\n",
       " ('Lead Source_Direct Traffic', True, 1),\n",
       " ('Lead Source_Facebook', False, 34),\n",
       " ('Lead Source_Google', True, 1),\n",
       " ('Lead Source_Live Chat', False, 15),\n",
       " ('Lead Source_NC_EDM', False, 11),\n",
       " ('Lead Source_Olark Chat', True, 1),\n",
       " ('Lead Source_Organic Search', True, 1),\n",
       " ('Lead Source_Pay per Click Ads', False, 24),\n",
       " ('Lead Source_Press_Release', False, 21),\n",
       " ('Lead Source_Reference', True, 1),\n",
       " ('Lead Source_Referral Sites', True, 1),\n",
       " ('Lead Source_Social Media', True, 1),\n",
       " ('Lead Source_WeLearn', False, 42),\n",
       " ('Lead Source_Welingak Website', True, 1),\n",
       " ('Lead Source_bing', False, 28),\n",
       " ('Lead Source_blog', True, 1),\n",
       " ('Lead Source_google', True, 1),\n",
       " ('Lead Source_testone', False, 20),\n",
       " ('Lead Source_welearnblog_Home', False, 13),\n",
       " ('Lead Source_youtubechannel', False, 12),\n",
       " ('Last Activity_Email Bounced', False, 5),\n",
       " ('Last Activity_Email Link Clicked', False, 2),\n",
       " ('Last Activity_Email Opened', True, 1),\n",
       " ('Last Activity_Form Submitted on Website', False, 26),\n",
       " ('Last Activity_Olark Chat Conversation', True, 1),\n",
       " ('Last Activity_Other_Activity', True, 1),\n",
       " ('Last Activity_Page Visited on Website', True, 1),\n",
       " ('Last Activity_SMS Sent', True, 1),\n",
       " ('Last Activity_Unreachable', True, 1),\n",
       " ('Last Activity_Unsubscribed', True, 1),\n",
       " ('Specialization_Business Administration', False, 19),\n",
       " ('Specialization_E-Business', False, 6),\n",
       " ('Specialization_E-COMMERCE', False, 23),\n",
       " ('Specialization_Finance Management', False, 36),\n",
       " ('Specialization_Healthcare Management', False, 30),\n",
       " ('Specialization_Hospitality Management', True, 1),\n",
       " ('Specialization_Human Resource Management', False, 35),\n",
       " ('Specialization_IT Projects Management', False, 39),\n",
       " ('Specialization_International Business', False, 14),\n",
       " ('Specialization_Marketing Management', False, 25),\n",
       " ('Specialization_Media and Advertising', False, 10),\n",
       " ('Specialization_Operations Management', False, 33),\n",
       " ('Specialization_Others', True, 1),\n",
       " ('Specialization_Retail Management', False, 16),\n",
       " ('Specialization_Rural and Agribusiness', False, 29),\n",
       " ('Specialization_Services Excellence', False, 7),\n",
       " ('Specialization_Supply Chain Management', False, 37),\n",
       " ('Specialization_Travel and Tourism', False, 18),\n",
       " ('What is your current occupation_Housewife', True, 1),\n",
       " ('What is your current occupation_Other', False, 22),\n",
       " ('What is your current occupation_Student', True, 1),\n",
       " ('What is your current occupation_Unemployed', True, 1),\n",
       " ('What is your current occupation_Working Professional', True, 1),\n",
       " ('City_Other Cities', False, 32),\n",
       " ('City_Other Cities of Maharashtra', False, 38),\n",
       " ('City_Other Metro Cities', False, 31),\n",
       " ('City_Thane & Outskirts', False, 41),\n",
       " ('City_Tier II Cities', True, 1),\n",
       " ('Last Notable Activity_Email Bounced', False, 3),\n",
       " ('Last Notable Activity_Email Link Clicked', True, 1),\n",
       " ('Last Notable Activity_Email Marked Spam', False, 17),\n",
       " ('Last Notable Activity_Email Opened', True, 1),\n",
       " ('Last Notable Activity_Email Received', False, 40),\n",
       " ('Last Notable Activity_Form Submitted on Website', False, 27),\n",
       " ('Last Notable Activity_Had a Phone Conversation', True, 1),\n",
       " ('Last Notable Activity_Modified', True, 1),\n",
       " ('Last Notable Activity_Olark Chat Conversation', True, 1),\n",
       " ('Last Notable Activity_Page Visited on Website', True, 1),\n",
       " ('Last Notable Activity_Resubscribed to emails', False, 4),\n",
       " ('Last Notable Activity_SMS Sent', True, 1),\n",
       " ('Last Notable Activity_Unreachable', True, 1),\n",
       " ('Last Notable Activity_Unsubscribed', True, 1),\n",
       " ('Last Notable Activity_View in browser link Clicked', True, 1)]"
      ]
     },
     "execution_count": 278,
     "metadata": {},
     "output_type": "execute_result"
    }
   ],
   "source": [
    "# print rank wise\n",
    "list(zip(X_train.columns, rfe.support_, rfe.ranking_))"
   ]
  },
  {
   "cell_type": "code",
   "execution_count": 279,
   "id": "c3e503f7",
   "metadata": {},
   "outputs": [
    {
     "data": {
      "text/plain": [
       "Index(['Do Not Email', 'Do Not Call', 'Total Time Spent on Website',\n",
       "       'Lead Origin_Landing Page Submission', 'Lead Origin_Lead Add Form',\n",
       "       'Lead Origin_Lead Import', 'Lead Source_Direct Traffic',\n",
       "       'Lead Source_Google', 'Lead Source_Olark Chat',\n",
       "       'Lead Source_Organic Search', 'Lead Source_Reference',\n",
       "       'Lead Source_Referral Sites', 'Lead Source_Social Media',\n",
       "       'Lead Source_Welingak Website', 'Lead Source_blog',\n",
       "       'Lead Source_google', 'Last Activity_Email Opened',\n",
       "       'Last Activity_Olark Chat Conversation', 'Last Activity_Other_Activity',\n",
       "       'Last Activity_Page Visited on Website', 'Last Activity_SMS Sent',\n",
       "       'Last Activity_Unreachable', 'Last Activity_Unsubscribed',\n",
       "       'Specialization_Hospitality Management', 'Specialization_Others',\n",
       "       'What is your current occupation_Housewife',\n",
       "       'What is your current occupation_Student',\n",
       "       'What is your current occupation_Unemployed',\n",
       "       'What is your current occupation_Working Professional',\n",
       "       'City_Tier II Cities', 'Last Notable Activity_Email Link Clicked',\n",
       "       'Last Notable Activity_Email Opened',\n",
       "       'Last Notable Activity_Had a Phone Conversation',\n",
       "       'Last Notable Activity_Modified',\n",
       "       'Last Notable Activity_Olark Chat Conversation',\n",
       "       'Last Notable Activity_Page Visited on Website',\n",
       "       'Last Notable Activity_SMS Sent', 'Last Notable Activity_Unreachable',\n",
       "       'Last Notable Activity_Unsubscribed',\n",
       "       'Last Notable Activity_View in browser link Clicked'],\n",
       "      dtype='object')"
      ]
     },
     "execution_count": 279,
     "metadata": {},
     "output_type": "execute_result"
    }
   ],
   "source": [
    "# Selected column by RFE\n",
    "cols = X_train.columns[rfe.support_]\n",
    "cols"
   ]
  },
  {
   "cell_type": "code",
   "execution_count": 280,
   "id": "fbd2b667",
   "metadata": {},
   "outputs": [
    {
     "data": {
      "text/html": [
       "<table class=\"simpletable\">\n",
       "<caption>Generalized Linear Model Regression Results</caption>\n",
       "<tr>\n",
       "  <th>Dep. Variable:</th>       <td>Converted</td>    <th>  No. Observations:  </th>  <td>  6351</td> \n",
       "</tr>\n",
       "<tr>\n",
       "  <th>Model:</th>                  <td>GLM</td>       <th>  Df Residuals:      </th>  <td>  6310</td> \n",
       "</tr>\n",
       "<tr>\n",
       "  <th>Model Family:</th>        <td>Binomial</td>     <th>  Df Model:          </th>  <td>    40</td> \n",
       "</tr>\n",
       "<tr>\n",
       "  <th>Link Function:</th>         <td>Logit</td>      <th>  Scale:             </th> <td>  1.0000</td>\n",
       "</tr>\n",
       "<tr>\n",
       "  <th>Method:</th>                <td>IRLS</td>       <th>  Log-Likelihood:    </th> <td> -2559.7</td>\n",
       "</tr>\n",
       "<tr>\n",
       "  <th>Date:</th>            <td>Sun, 22 Jan 2023</td> <th>  Deviance:          </th> <td>  5119.4</td>\n",
       "</tr>\n",
       "<tr>\n",
       "  <th>Time:</th>                <td>19:50:06</td>     <th>  Pearson chi2:      </th> <td>6.41e+03</td>\n",
       "</tr>\n",
       "<tr>\n",
       "  <th>No. Iterations:</th>         <td>22</td>        <th>  Pseudo R-squ. (CS):</th>  <td>0.4096</td> \n",
       "</tr>\n",
       "<tr>\n",
       "  <th>Covariance Type:</th>     <td>nonrobust</td>    <th>                     </th>     <td> </td>   \n",
       "</tr>\n",
       "</table>\n",
       "<table class=\"simpletable\">\n",
       "<tr>\n",
       "                            <td></td>                              <th>coef</th>     <th>std err</th>      <th>z</th>      <th>P>|z|</th>  <th>[0.025</th>    <th>0.975]</th>  \n",
       "</tr>\n",
       "<tr>\n",
       "  <th>const</th>                                                <td>    1.4633</td> <td>    1.108</td> <td>    1.321</td> <td> 0.187</td> <td>   -0.709</td> <td>    3.635</td>\n",
       "</tr>\n",
       "<tr>\n",
       "  <th>Do Not Email</th>                                         <td>   -1.6394</td> <td>    0.210</td> <td>   -7.792</td> <td> 0.000</td> <td>   -2.052</td> <td>   -1.227</td>\n",
       "</tr>\n",
       "<tr>\n",
       "  <th>Do Not Call</th>                                          <td>   22.6056</td> <td> 5.42e+04</td> <td>    0.000</td> <td> 1.000</td> <td>-1.06e+05</td> <td> 1.06e+05</td>\n",
       "</tr>\n",
       "<tr>\n",
       "  <th>Total Time Spent on Website</th>                          <td>    1.1083</td> <td>    0.041</td> <td>   26.918</td> <td> 0.000</td> <td>    1.028</td> <td>    1.189</td>\n",
       "</tr>\n",
       "<tr>\n",
       "  <th>Lead Origin_Landing Page Submission</th>                  <td>   -1.0079</td> <td>    0.136</td> <td>   -7.389</td> <td> 0.000</td> <td>   -1.275</td> <td>   -0.741</td>\n",
       "</tr>\n",
       "<tr>\n",
       "  <th>Lead Origin_Lead Add Form</th>                            <td>    1.2899</td> <td>    1.066</td> <td>    1.210</td> <td> 0.226</td> <td>   -0.799</td> <td>    3.379</td>\n",
       "</tr>\n",
       "<tr>\n",
       "  <th>Lead Origin_Lead Import</th>                              <td>    0.6773</td> <td>    0.867</td> <td>    0.782</td> <td> 0.434</td> <td>   -1.021</td> <td>    2.376</td>\n",
       "</tr>\n",
       "<tr>\n",
       "  <th>Lead Source_Direct Traffic</th>                           <td>   -0.4635</td> <td>    0.726</td> <td>   -0.638</td> <td> 0.523</td> <td>   -1.887</td> <td>    0.960</td>\n",
       "</tr>\n",
       "<tr>\n",
       "  <th>Lead Source_Google</th>                                   <td>   -0.1623</td> <td>    0.726</td> <td>   -0.224</td> <td> 0.823</td> <td>   -1.585</td> <td>    1.261</td>\n",
       "</tr>\n",
       "<tr>\n",
       "  <th>Lead Source_Olark Chat</th>                               <td>    0.8667</td> <td>    0.732</td> <td>    1.185</td> <td> 0.236</td> <td>   -0.567</td> <td>    2.301</td>\n",
       "</tr>\n",
       "<tr>\n",
       "  <th>Lead Source_Organic Search</th>                           <td>   -0.3606</td> <td>    0.730</td> <td>   -0.494</td> <td> 0.621</td> <td>   -1.791</td> <td>    1.070</td>\n",
       "</tr>\n",
       "<tr>\n",
       "  <th>Lead Source_Reference</th>                                <td>    1.8134</td> <td>    0.922</td> <td>    1.967</td> <td> 0.049</td> <td>    0.006</td> <td>    3.620</td>\n",
       "</tr>\n",
       "<tr>\n",
       "  <th>Lead Source_Referral Sites</th>                           <td>   -0.4791</td> <td>    0.801</td> <td>   -0.598</td> <td> 0.550</td> <td>   -2.049</td> <td>    1.091</td>\n",
       "</tr>\n",
       "<tr>\n",
       "  <th>Lead Source_Social Media</th>                             <td>    1.4922</td> <td>    1.698</td> <td>    0.879</td> <td> 0.379</td> <td>   -1.835</td> <td>    4.820</td>\n",
       "</tr>\n",
       "<tr>\n",
       "  <th>Lead Source_Welingak Website</th>                         <td>    4.3748</td> <td>    1.153</td> <td>    3.793</td> <td> 0.000</td> <td>    2.114</td> <td>    6.635</td>\n",
       "</tr>\n",
       "<tr>\n",
       "  <th>Lead Source_blog</th>                                     <td>  -22.9950</td> <td> 7.95e+04</td> <td>   -0.000</td> <td> 1.000</td> <td>-1.56e+05</td> <td> 1.56e+05</td>\n",
       "</tr>\n",
       "<tr>\n",
       "  <th>Lead Source_google</th>                                   <td>  -21.1469</td> <td> 3.63e+04</td> <td>   -0.001</td> <td> 1.000</td> <td>-7.11e+04</td> <td> 7.11e+04</td>\n",
       "</tr>\n",
       "<tr>\n",
       "  <th>Last Activity_Email Opened</th>                           <td>    0.7664</td> <td>    0.203</td> <td>    3.779</td> <td> 0.000</td> <td>    0.369</td> <td>    1.164</td>\n",
       "</tr>\n",
       "<tr>\n",
       "  <th>Last Activity_Olark Chat Conversation</th>                <td>   -0.5310</td> <td>    0.242</td> <td>   -2.196</td> <td> 0.028</td> <td>   -1.005</td> <td>   -0.057</td>\n",
       "</tr>\n",
       "<tr>\n",
       "  <th>Last Activity_Other_Activity</th>                         <td>    2.2995</td> <td>    0.586</td> <td>    3.925</td> <td> 0.000</td> <td>    1.151</td> <td>    3.448</td>\n",
       "</tr>\n",
       "<tr>\n",
       "  <th>Last Activity_Page Visited on Website</th>                <td>    0.4561</td> <td>    0.255</td> <td>    1.786</td> <td> 0.074</td> <td>   -0.044</td> <td>    0.957</td>\n",
       "</tr>\n",
       "<tr>\n",
       "  <th>Last Activity_SMS Sent</th>                               <td>    1.2166</td> <td>    0.205</td> <td>    5.949</td> <td> 0.000</td> <td>    0.816</td> <td>    1.617</td>\n",
       "</tr>\n",
       "<tr>\n",
       "  <th>Last Activity_Unreachable</th>                            <td>    0.4015</td> <td>    0.520</td> <td>    0.772</td> <td> 0.440</td> <td>   -0.617</td> <td>    1.420</td>\n",
       "</tr>\n",
       "<tr>\n",
       "  <th>Last Activity_Unsubscribed</th>                           <td>    1.5197</td> <td>    1.123</td> <td>    1.353</td> <td> 0.176</td> <td>   -0.682</td> <td>    3.722</td>\n",
       "</tr>\n",
       "<tr>\n",
       "  <th>Specialization_Hospitality Management</th>                <td>   -0.4117</td> <td>    0.331</td> <td>   -1.246</td> <td> 0.213</td> <td>   -1.059</td> <td>    0.236</td>\n",
       "</tr>\n",
       "<tr>\n",
       "  <th>Specialization_Others</th>                                <td>   -1.1214</td> <td>    0.127</td> <td>   -8.801</td> <td> 0.000</td> <td>   -1.371</td> <td>   -0.872</td>\n",
       "</tr>\n",
       "<tr>\n",
       "  <th>What is your current occupation_Housewife</th>            <td>   22.7705</td> <td> 2.51e+04</td> <td>    0.001</td> <td> 0.999</td> <td>-4.92e+04</td> <td> 4.92e+04</td>\n",
       "</tr>\n",
       "<tr>\n",
       "  <th>What is your current occupation_Student</th>              <td>   -0.5649</td> <td>    0.681</td> <td>   -0.829</td> <td> 0.407</td> <td>   -1.900</td> <td>    0.770</td>\n",
       "</tr>\n",
       "<tr>\n",
       "  <th>What is your current occupation_Unemployed</th>           <td>   -1.0283</td> <td>    0.643</td> <td>   -1.600</td> <td> 0.110</td> <td>   -2.288</td> <td>    0.231</td>\n",
       "</tr>\n",
       "<tr>\n",
       "  <th>What is your current occupation_Working Professional</th> <td>    1.6061</td> <td>    0.669</td> <td>    2.401</td> <td> 0.016</td> <td>    0.295</td> <td>    2.917</td>\n",
       "</tr>\n",
       "<tr>\n",
       "  <th>City_Tier II Cities</th>                                  <td>   -0.4635</td> <td>    0.458</td> <td>   -1.012</td> <td> 0.312</td> <td>   -1.362</td> <td>    0.434</td>\n",
       "</tr>\n",
       "<tr>\n",
       "  <th>Last Notable Activity_Email Link Clicked</th>             <td>   -0.8127</td> <td>    0.579</td> <td>   -1.404</td> <td> 0.160</td> <td>   -1.947</td> <td>    0.322</td>\n",
       "</tr>\n",
       "<tr>\n",
       "  <th>Last Notable Activity_Email Opened</th>                   <td>   -1.1563</td> <td>    0.554</td> <td>   -2.086</td> <td> 0.037</td> <td>   -2.243</td> <td>   -0.070</td>\n",
       "</tr>\n",
       "<tr>\n",
       "  <th>Last Notable Activity_Had a Phone Conversation</th>       <td>    0.5010</td> <td>    1.326</td> <td>    0.378</td> <td> 0.706</td> <td>   -2.098</td> <td>    3.100</td>\n",
       "</tr>\n",
       "<tr>\n",
       "  <th>Last Notable Activity_Modified</th>                       <td>   -1.5255</td> <td>    0.536</td> <td>   -2.846</td> <td> 0.004</td> <td>   -2.576</td> <td>   -0.475</td>\n",
       "</tr>\n",
       "<tr>\n",
       "  <th>Last Notable Activity_Olark Chat Conversation</th>        <td>   -1.2557</td> <td>    0.649</td> <td>   -1.936</td> <td> 0.053</td> <td>   -2.527</td> <td>    0.015</td>\n",
       "</tr>\n",
       "<tr>\n",
       "  <th>Last Notable Activity_Page Visited on Website</th>        <td>   -1.1023</td> <td>    0.605</td> <td>   -1.822</td> <td> 0.068</td> <td>   -2.288</td> <td>    0.083</td>\n",
       "</tr>\n",
       "<tr>\n",
       "  <th>Last Notable Activity_SMS Sent</th>                       <td>   -0.1385</td> <td>    0.556</td> <td>   -0.249</td> <td> 0.803</td> <td>   -1.228</td> <td>    0.951</td>\n",
       "</tr>\n",
       "<tr>\n",
       "  <th>Last Notable Activity_Unreachable</th>                    <td>    0.7836</td> <td>    0.873</td> <td>    0.898</td> <td> 0.369</td> <td>   -0.927</td> <td>    2.494</td>\n",
       "</tr>\n",
       "<tr>\n",
       "  <th>Last Notable Activity_Unsubscribed</th>                   <td>   -0.4820</td> <td>    1.315</td> <td>   -0.367</td> <td> 0.714</td> <td>   -3.059</td> <td>    2.095</td>\n",
       "</tr>\n",
       "<tr>\n",
       "  <th>Last Notable Activity_View in browser link Clicked</th>   <td>  -25.3343</td> <td> 7.95e+04</td> <td>   -0.000</td> <td> 1.000</td> <td>-1.56e+05</td> <td> 1.56e+05</td>\n",
       "</tr>\n",
       "</table>"
      ],
      "text/plain": [
       "<class 'statsmodels.iolib.summary.Summary'>\n",
       "\"\"\"\n",
       "                 Generalized Linear Model Regression Results                  \n",
       "==============================================================================\n",
       "Dep. Variable:              Converted   No. Observations:                 6351\n",
       "Model:                            GLM   Df Residuals:                     6310\n",
       "Model Family:                Binomial   Df Model:                           40\n",
       "Link Function:                  Logit   Scale:                          1.0000\n",
       "Method:                          IRLS   Log-Likelihood:                -2559.7\n",
       "Date:                Sun, 22 Jan 2023   Deviance:                       5119.4\n",
       "Time:                        19:50:06   Pearson chi2:                 6.41e+03\n",
       "No. Iterations:                    22   Pseudo R-squ. (CS):             0.4096\n",
       "Covariance Type:            nonrobust                                         \n",
       "========================================================================================================================\n",
       "                                                           coef    std err          z      P>|z|      [0.025      0.975]\n",
       "------------------------------------------------------------------------------------------------------------------------\n",
       "const                                                    1.4633      1.108      1.321      0.187      -0.709       3.635\n",
       "Do Not Email                                            -1.6394      0.210     -7.792      0.000      -2.052      -1.227\n",
       "Do Not Call                                             22.6056   5.42e+04      0.000      1.000   -1.06e+05    1.06e+05\n",
       "Total Time Spent on Website                              1.1083      0.041     26.918      0.000       1.028       1.189\n",
       "Lead Origin_Landing Page Submission                     -1.0079      0.136     -7.389      0.000      -1.275      -0.741\n",
       "Lead Origin_Lead Add Form                                1.2899      1.066      1.210      0.226      -0.799       3.379\n",
       "Lead Origin_Lead Import                                  0.6773      0.867      0.782      0.434      -1.021       2.376\n",
       "Lead Source_Direct Traffic                              -0.4635      0.726     -0.638      0.523      -1.887       0.960\n",
       "Lead Source_Google                                      -0.1623      0.726     -0.224      0.823      -1.585       1.261\n",
       "Lead Source_Olark Chat                                   0.8667      0.732      1.185      0.236      -0.567       2.301\n",
       "Lead Source_Organic Search                              -0.3606      0.730     -0.494      0.621      -1.791       1.070\n",
       "Lead Source_Reference                                    1.8134      0.922      1.967      0.049       0.006       3.620\n",
       "Lead Source_Referral Sites                              -0.4791      0.801     -0.598      0.550      -2.049       1.091\n",
       "Lead Source_Social Media                                 1.4922      1.698      0.879      0.379      -1.835       4.820\n",
       "Lead Source_Welingak Website                             4.3748      1.153      3.793      0.000       2.114       6.635\n",
       "Lead Source_blog                                       -22.9950   7.95e+04     -0.000      1.000   -1.56e+05    1.56e+05\n",
       "Lead Source_google                                     -21.1469   3.63e+04     -0.001      1.000   -7.11e+04    7.11e+04\n",
       "Last Activity_Email Opened                               0.7664      0.203      3.779      0.000       0.369       1.164\n",
       "Last Activity_Olark Chat Conversation                   -0.5310      0.242     -2.196      0.028      -1.005      -0.057\n",
       "Last Activity_Other_Activity                             2.2995      0.586      3.925      0.000       1.151       3.448\n",
       "Last Activity_Page Visited on Website                    0.4561      0.255      1.786      0.074      -0.044       0.957\n",
       "Last Activity_SMS Sent                                   1.2166      0.205      5.949      0.000       0.816       1.617\n",
       "Last Activity_Unreachable                                0.4015      0.520      0.772      0.440      -0.617       1.420\n",
       "Last Activity_Unsubscribed                               1.5197      1.123      1.353      0.176      -0.682       3.722\n",
       "Specialization_Hospitality Management                   -0.4117      0.331     -1.246      0.213      -1.059       0.236\n",
       "Specialization_Others                                   -1.1214      0.127     -8.801      0.000      -1.371      -0.872\n",
       "What is your current occupation_Housewife               22.7705   2.51e+04      0.001      0.999   -4.92e+04    4.92e+04\n",
       "What is your current occupation_Student                 -0.5649      0.681     -0.829      0.407      -1.900       0.770\n",
       "What is your current occupation_Unemployed              -1.0283      0.643     -1.600      0.110      -2.288       0.231\n",
       "What is your current occupation_Working Professional     1.6061      0.669      2.401      0.016       0.295       2.917\n",
       "City_Tier II Cities                                     -0.4635      0.458     -1.012      0.312      -1.362       0.434\n",
       "Last Notable Activity_Email Link Clicked                -0.8127      0.579     -1.404      0.160      -1.947       0.322\n",
       "Last Notable Activity_Email Opened                      -1.1563      0.554     -2.086      0.037      -2.243      -0.070\n",
       "Last Notable Activity_Had a Phone Conversation           0.5010      1.326      0.378      0.706      -2.098       3.100\n",
       "Last Notable Activity_Modified                          -1.5255      0.536     -2.846      0.004      -2.576      -0.475\n",
       "Last Notable Activity_Olark Chat Conversation           -1.2557      0.649     -1.936      0.053      -2.527       0.015\n",
       "Last Notable Activity_Page Visited on Website           -1.1023      0.605     -1.822      0.068      -2.288       0.083\n",
       "Last Notable Activity_SMS Sent                          -0.1385      0.556     -0.249      0.803      -1.228       0.951\n",
       "Last Notable Activity_Unreachable                        0.7836      0.873      0.898      0.369      -0.927       2.494\n",
       "Last Notable Activity_Unsubscribed                      -0.4820      1.315     -0.367      0.714      -3.059       2.095\n",
       "Last Notable Activity_View in browser link Clicked     -25.3343   7.95e+04     -0.000      1.000   -1.56e+05    1.56e+05\n",
       "========================================================================================================================\n",
       "\"\"\""
      ]
     },
     "execution_count": 280,
     "metadata": {},
     "output_type": "execute_result"
    }
   ],
   "source": [
    "# Build model now\n",
    "import statsmodels.api as sm\n",
    "X_train_sm = sm.add_constant(X_train[cols])\n",
    "logm1 = sm.GLM(y_train,X_train_sm, family = sm.families.Binomial())\n",
    "result = logm1.fit()\n",
    "result.summary()"
   ]
  },
  {
   "cell_type": "code",
   "execution_count": 281,
   "id": "ff1b3d82",
   "metadata": {},
   "outputs": [
    {
     "name": "stdout",
     "output_type": "stream",
     "text": [
      "<class 'list'>\n",
      "[0.18665997858350614, 6.611990967303732e-15, 0.9996672896031533, 1.3577325824114958e-159, 1.4759665020690838e-13, 0.226158437125779, 0.43441555488631933, 0.5233358084396522, 0.823056529506127, 0.23614527362491067, 0.621371708195499, 0.049213092838872444, 0.5498326187859351, 0.37940193383311893, 0.0001489006599513899, 0.9997691052697238, 0.9995349358185882, 0.00015769446499670688, 0.028094646475187446, 8.663219294554617e-05, 0.07402337269553773, 2.698578607029249e-09, 0.4399374596234771, 0.17614407791979114, 0.21292603489869888, 1.351568710528153e-18, 0.9992759712664411, 0.4070090715712992, 0.10951733453805487, 0.016356598786723145, 0.3116976944540707, 0.16030948348037677, 0.03695352394126282, 0.7055977584813136, 0.00442783736790635, 0.05285492711007722, 0.06845650804190635, 0.8031098797758198, 0.3692801667388862, 0.7138817335929384, 0.9997456166039649]\n"
     ]
    }
   ],
   "source": [
    "print(type(list(result.pvalues)))\n",
    "print(list(result.pvalues))"
   ]
  },
  {
   "cell_type": "code",
   "execution_count": 282,
   "id": "1f9f2e78",
   "metadata": {},
   "outputs": [],
   "source": [
    "dict = result.pvalues.to_dict() \n",
    "dict\n",
    "high_p  = list()\n",
    "high_p = [i for i, j in dict.items() if j>.05]"
   ]
  },
  {
   "cell_type": "code",
   "execution_count": 283,
   "id": "bc815e56",
   "metadata": {},
   "outputs": [
    {
     "data": {
      "text/plain": [
       "Index(['Do Not Email', 'Do Not Call', 'Total Time Spent on Website',\n",
       "       'Lead Origin_Landing Page Submission', 'Lead Origin_Lead Add Form',\n",
       "       'Lead Origin_Lead Import', 'Lead Source_Direct Traffic',\n",
       "       'Lead Source_Google', 'Lead Source_Olark Chat',\n",
       "       'Lead Source_Organic Search', 'Lead Source_Reference',\n",
       "       'Lead Source_Referral Sites', 'Lead Source_Social Media',\n",
       "       'Lead Source_Welingak Website', 'Lead Source_blog',\n",
       "       'Lead Source_google', 'Last Activity_Email Opened',\n",
       "       'Last Activity_Olark Chat Conversation', 'Last Activity_Other_Activity',\n",
       "       'Last Activity_Page Visited on Website', 'Last Activity_SMS Sent',\n",
       "       'Last Activity_Unreachable', 'Last Activity_Unsubscribed',\n",
       "       'Specialization_Hospitality Management', 'Specialization_Others',\n",
       "       'What is your current occupation_Housewife',\n",
       "       'What is your current occupation_Student',\n",
       "       'What is your current occupation_Unemployed',\n",
       "       'What is your current occupation_Working Professional',\n",
       "       'City_Tier II Cities', 'Last Notable Activity_Email Link Clicked',\n",
       "       'Last Notable Activity_Email Opened',\n",
       "       'Last Notable Activity_Had a Phone Conversation',\n",
       "       'Last Notable Activity_Modified',\n",
       "       'Last Notable Activity_Olark Chat Conversation',\n",
       "       'Last Notable Activity_Page Visited on Website',\n",
       "       'Last Notable Activity_SMS Sent', 'Last Notable Activity_Unreachable',\n",
       "       'Last Notable Activity_Unsubscribed',\n",
       "       'Last Notable Activity_View in browser link Clicked'],\n",
       "      dtype='object')"
      ]
     },
     "execution_count": 283,
     "metadata": {},
     "output_type": "execute_result"
    }
   ],
   "source": [
    "cols"
   ]
  },
  {
   "cell_type": "code",
   "execution_count": 284,
   "id": "61fd1b85",
   "metadata": {},
   "outputs": [
    {
     "name": "stdout",
     "output_type": "stream",
     "text": [
      "['const', 'Do Not Call', 'Lead Origin_Lead Add Form', 'Lead Origin_Lead Import', 'Lead Source_Direct Traffic', 'Lead Source_Google', 'Lead Source_Olark Chat', 'Lead Source_Organic Search', 'Lead Source_Referral Sites', 'Lead Source_Social Media', 'Lead Source_blog', 'Lead Source_google', 'Last Activity_Page Visited on Website', 'Last Activity_Unreachable', 'Last Activity_Unsubscribed', 'Specialization_Hospitality Management', 'What is your current occupation_Housewife', 'What is your current occupation_Student', 'What is your current occupation_Unemployed', 'City_Tier II Cities', 'Last Notable Activity_Email Link Clicked', 'Last Notable Activity_Had a Phone Conversation', 'Last Notable Activity_Olark Chat Conversation', 'Last Notable Activity_Page Visited on Website', 'Last Notable Activity_SMS Sent', 'Last Notable Activity_Unreachable', 'Last Notable Activity_Unsubscribed', 'Last Notable Activity_View in browser link Clicked']\n"
     ]
    }
   ],
   "source": [
    "print(high_p)\n",
    "high_p.remove('const')\n",
    "# drop these features\n",
    "cols1 = cols.drop(high_p)"
   ]
  },
  {
   "cell_type": "code",
   "execution_count": 285,
   "id": "31c549b1",
   "metadata": {},
   "outputs": [
    {
     "name": "stdout",
     "output_type": "stream",
     "text": [
      "13\n"
     ]
    },
    {
     "data": {
      "text/html": [
       "<table class=\"simpletable\">\n",
       "<caption>Generalized Linear Model Regression Results</caption>\n",
       "<tr>\n",
       "  <th>Dep. Variable:</th>       <td>Converted</td>    <th>  No. Observations:  </th>  <td>  6351</td> \n",
       "</tr>\n",
       "<tr>\n",
       "  <th>Model:</th>                  <td>GLM</td>       <th>  Df Residuals:      </th>  <td>  6337</td> \n",
       "</tr>\n",
       "<tr>\n",
       "  <th>Model Family:</th>        <td>Binomial</td>     <th>  Df Model:          </th>  <td>    13</td> \n",
       "</tr>\n",
       "<tr>\n",
       "  <th>Link Function:</th>         <td>Logit</td>      <th>  Scale:             </th> <td>  1.0000</td>\n",
       "</tr>\n",
       "<tr>\n",
       "  <th>Method:</th>                <td>IRLS</td>       <th>  Log-Likelihood:    </th> <td> -2637.9</td>\n",
       "</tr>\n",
       "<tr>\n",
       "  <th>Date:</th>            <td>Sun, 22 Jan 2023</td> <th>  Deviance:          </th> <td>  5275.8</td>\n",
       "</tr>\n",
       "<tr>\n",
       "  <th>Time:</th>                <td>19:50:07</td>     <th>  Pearson chi2:      </th> <td>6.38e+03</td>\n",
       "</tr>\n",
       "<tr>\n",
       "  <th>No. Iterations:</th>          <td>7</td>        <th>  Pseudo R-squ. (CS):</th>  <td>0.3949</td> \n",
       "</tr>\n",
       "<tr>\n",
       "  <th>Covariance Type:</th>     <td>nonrobust</td>    <th>                     </th>     <td> </td>   \n",
       "</tr>\n",
       "</table>\n",
       "<table class=\"simpletable\">\n",
       "<tr>\n",
       "                            <td></td>                              <th>coef</th>     <th>std err</th>      <th>z</th>      <th>P>|z|</th>  <th>[0.025</th>    <th>0.975]</th>  \n",
       "</tr>\n",
       "<tr>\n",
       "  <th>const</th>                                                <td>    0.3175</td> <td>    0.150</td> <td>    2.118</td> <td> 0.034</td> <td>    0.024</td> <td>    0.611</td>\n",
       "</tr>\n",
       "<tr>\n",
       "  <th>Do Not Email</th>                                         <td>   -1.4469</td> <td>    0.180</td> <td>   -8.032</td> <td> 0.000</td> <td>   -1.800</td> <td>   -1.094</td>\n",
       "</tr>\n",
       "<tr>\n",
       "  <th>Total Time Spent on Website</th>                          <td>    0.9714</td> <td>    0.037</td> <td>   26.389</td> <td> 0.000</td> <td>    0.899</td> <td>    1.044</td>\n",
       "</tr>\n",
       "<tr>\n",
       "  <th>Lead Origin_Landing Page Submission</th>                  <td>   -1.5008</td> <td>    0.121</td> <td>  -12.385</td> <td> 0.000</td> <td>   -1.738</td> <td>   -1.263</td>\n",
       "</tr>\n",
       "<tr>\n",
       "  <th>Lead Source_Reference</th>                                <td>    2.7732</td> <td>    0.232</td> <td>   11.940</td> <td> 0.000</td> <td>    2.318</td> <td>    3.228</td>\n",
       "</tr>\n",
       "<tr>\n",
       "  <th>Lead Source_Welingak Website</th>                         <td>    5.2407</td> <td>    0.725</td> <td>    7.231</td> <td> 0.000</td> <td>    3.820</td> <td>    6.661</td>\n",
       "</tr>\n",
       "<tr>\n",
       "  <th>Last Activity_Email Opened</th>                           <td>    0.7866</td> <td>    0.163</td> <td>    4.839</td> <td> 0.000</td> <td>    0.468</td> <td>    1.105</td>\n",
       "</tr>\n",
       "<tr>\n",
       "  <th>Last Activity_Olark Chat Conversation</th>                <td>   -0.5572</td> <td>    0.185</td> <td>   -3.019</td> <td> 0.003</td> <td>   -0.919</td> <td>   -0.196</td>\n",
       "</tr>\n",
       "<tr>\n",
       "  <th>Last Activity_Other_Activity</th>                         <td>    2.3010</td> <td>    0.466</td> <td>    4.933</td> <td> 0.000</td> <td>    1.387</td> <td>    3.215</td>\n",
       "</tr>\n",
       "<tr>\n",
       "  <th>Last Activity_SMS Sent</th>                               <td>    1.3498</td> <td>    0.111</td> <td>   12.185</td> <td> 0.000</td> <td>    1.133</td> <td>    1.567</td>\n",
       "</tr>\n",
       "<tr>\n",
       "  <th>Specialization_Others</th>                                <td>   -1.1354</td> <td>    0.123</td> <td>   -9.196</td> <td> 0.000</td> <td>   -1.377</td> <td>   -0.893</td>\n",
       "</tr>\n",
       "<tr>\n",
       "  <th>What is your current occupation_Working Professional</th> <td>    2.5753</td> <td>    0.192</td> <td>   13.409</td> <td> 0.000</td> <td>    2.199</td> <td>    2.952</td>\n",
       "</tr>\n",
       "<tr>\n",
       "  <th>Last Notable Activity_Email Opened</th>                   <td>   -0.8093</td> <td>    0.174</td> <td>   -4.644</td> <td> 0.000</td> <td>   -1.151</td> <td>   -0.468</td>\n",
       "</tr>\n",
       "<tr>\n",
       "  <th>Last Notable Activity_Modified</th>                       <td>   -1.1632</td> <td>    0.105</td> <td>  -11.129</td> <td> 0.000</td> <td>   -1.368</td> <td>   -0.958</td>\n",
       "</tr>\n",
       "</table>"
      ],
      "text/plain": [
       "<class 'statsmodels.iolib.summary.Summary'>\n",
       "\"\"\"\n",
       "                 Generalized Linear Model Regression Results                  \n",
       "==============================================================================\n",
       "Dep. Variable:              Converted   No. Observations:                 6351\n",
       "Model:                            GLM   Df Residuals:                     6337\n",
       "Model Family:                Binomial   Df Model:                           13\n",
       "Link Function:                  Logit   Scale:                          1.0000\n",
       "Method:                          IRLS   Log-Likelihood:                -2637.9\n",
       "Date:                Sun, 22 Jan 2023   Deviance:                       5275.8\n",
       "Time:                        19:50:07   Pearson chi2:                 6.38e+03\n",
       "No. Iterations:                     7   Pseudo R-squ. (CS):             0.3949\n",
       "Covariance Type:            nonrobust                                         \n",
       "========================================================================================================================\n",
       "                                                           coef    std err          z      P>|z|      [0.025      0.975]\n",
       "------------------------------------------------------------------------------------------------------------------------\n",
       "const                                                    0.3175      0.150      2.118      0.034       0.024       0.611\n",
       "Do Not Email                                            -1.4469      0.180     -8.032      0.000      -1.800      -1.094\n",
       "Total Time Spent on Website                              0.9714      0.037     26.389      0.000       0.899       1.044\n",
       "Lead Origin_Landing Page Submission                     -1.5008      0.121    -12.385      0.000      -1.738      -1.263\n",
       "Lead Source_Reference                                    2.7732      0.232     11.940      0.000       2.318       3.228\n",
       "Lead Source_Welingak Website                             5.2407      0.725      7.231      0.000       3.820       6.661\n",
       "Last Activity_Email Opened                               0.7866      0.163      4.839      0.000       0.468       1.105\n",
       "Last Activity_Olark Chat Conversation                   -0.5572      0.185     -3.019      0.003      -0.919      -0.196\n",
       "Last Activity_Other_Activity                             2.3010      0.466      4.933      0.000       1.387       3.215\n",
       "Last Activity_SMS Sent                                   1.3498      0.111     12.185      0.000       1.133       1.567\n",
       "Specialization_Others                                   -1.1354      0.123     -9.196      0.000      -1.377      -0.893\n",
       "What is your current occupation_Working Professional     2.5753      0.192     13.409      0.000       2.199       2.952\n",
       "Last Notable Activity_Email Opened                      -0.8093      0.174     -4.644      0.000      -1.151      -0.468\n",
       "Last Notable Activity_Modified                          -1.1632      0.105    -11.129      0.000      -1.368      -0.958\n",
       "========================================================================================================================\n",
       "\"\"\""
      ]
     },
     "execution_count": 285,
     "metadata": {},
     "output_type": "execute_result"
    }
   ],
   "source": [
    "# Build model now\n",
    "print(len(cols1))\n",
    "import statsmodels.api as sm\n",
    "X_train_sm = sm.add_constant(X_train[cols1])\n",
    "logm1 = sm.GLM(y_train,X_train_sm, family = sm.families.Binomial())\n",
    "result = logm1.fit()\n",
    "result.summary()"
   ]
  },
  {
   "cell_type": "code",
   "execution_count": 288,
   "id": "cd3fc658",
   "metadata": {},
   "outputs": [
    {
     "data": {
      "text/plain": [
       "3009    0.203980\n",
       "1012    0.152519\n",
       "9226    0.183242\n",
       "4750    0.853563\n",
       "7987    0.723770\n",
       "dtype: float64"
      ]
     },
     "execution_count": 288,
     "metadata": {},
     "output_type": "execute_result"
    }
   ],
   "source": [
    "# are final features\n",
    "# make Predictions\n",
    "y_train_pred = result.predict(X_train_sm)\n",
    "y_train_pred[:5]"
   ]
  },
  {
   "cell_type": "code",
   "execution_count": 289,
   "id": "aa9ce804",
   "metadata": {},
   "outputs": [
    {
     "data": {
      "text/plain": [
       "array([0.20397987, 0.15251905, 0.18324199, 0.85356327, 0.72377013,\n",
       "       0.74212612, 0.11284205, 0.97115891, 0.81094474, 0.69172223])"
      ]
     },
     "execution_count": 289,
     "metadata": {},
     "output_type": "execute_result"
    }
   ],
   "source": [
    "# Reshaping into an array\n",
    "y_train_pred = y_train_pred.values.reshape(-1)\n",
    "y_train_pred[:10]"
   ]
  },
  {
   "cell_type": "code",
   "execution_count": 290,
   "id": "1f52ed6c",
   "metadata": {},
   "outputs": [
    {
     "data": {
      "text/html": [
       "<div>\n",
       "<style scoped>\n",
       "    .dataframe tbody tr th:only-of-type {\n",
       "        vertical-align: middle;\n",
       "    }\n",
       "\n",
       "    .dataframe tbody tr th {\n",
       "        vertical-align: top;\n",
       "    }\n",
       "\n",
       "    .dataframe thead th {\n",
       "        text-align: right;\n",
       "    }\n",
       "</style>\n",
       "<table border=\"1\" class=\"dataframe\">\n",
       "  <thead>\n",
       "    <tr style=\"text-align: right;\">\n",
       "      <th></th>\n",
       "      <th>Converted</th>\n",
       "      <th>Converted_prob</th>\n",
       "      <th>Prospect ID</th>\n",
       "    </tr>\n",
       "  </thead>\n",
       "  <tbody>\n",
       "    <tr>\n",
       "      <th>0</th>\n",
       "      <td>0</td>\n",
       "      <td>0.203980</td>\n",
       "      <td>3009</td>\n",
       "    </tr>\n",
       "    <tr>\n",
       "      <th>1</th>\n",
       "      <td>0</td>\n",
       "      <td>0.152519</td>\n",
       "      <td>1012</td>\n",
       "    </tr>\n",
       "    <tr>\n",
       "      <th>2</th>\n",
       "      <td>0</td>\n",
       "      <td>0.183242</td>\n",
       "      <td>9226</td>\n",
       "    </tr>\n",
       "    <tr>\n",
       "      <th>3</th>\n",
       "      <td>1</td>\n",
       "      <td>0.853563</td>\n",
       "      <td>4750</td>\n",
       "    </tr>\n",
       "    <tr>\n",
       "      <th>4</th>\n",
       "      <td>1</td>\n",
       "      <td>0.723770</td>\n",
       "      <td>7987</td>\n",
       "    </tr>\n",
       "  </tbody>\n",
       "</table>\n",
       "</div>"
      ],
      "text/plain": [
       "   Converted  Converted_prob  Prospect ID\n",
       "0          0        0.203980         3009\n",
       "1          0        0.152519         1012\n",
       "2          0        0.183242         9226\n",
       "3          1        0.853563         4750\n",
       "4          1        0.723770         7987"
      ]
     },
     "execution_count": 290,
     "metadata": {},
     "output_type": "execute_result"
    }
   ],
   "source": [
    "# dataframe\n",
    "y_train_pred_final = pd.DataFrame({'Converted':y_train.values, 'Converted_prob':y_train_pred})\n",
    "y_train_pred_final['Prospect ID'] = y_train.index\n",
    "y_train_pred_final.head()"
   ]
  },
  {
   "cell_type": "code",
   "execution_count": 291,
   "id": "a865949c",
   "metadata": {},
   "outputs": [
    {
     "data": {
      "text/html": [
       "<div>\n",
       "<style scoped>\n",
       "    .dataframe tbody tr th:only-of-type {\n",
       "        vertical-align: middle;\n",
       "    }\n",
       "\n",
       "    .dataframe tbody tr th {\n",
       "        vertical-align: top;\n",
       "    }\n",
       "\n",
       "    .dataframe thead th {\n",
       "        text-align: right;\n",
       "    }\n",
       "</style>\n",
       "<table border=\"1\" class=\"dataframe\">\n",
       "  <thead>\n",
       "    <tr style=\"text-align: right;\">\n",
       "      <th></th>\n",
       "      <th>Converted</th>\n",
       "      <th>Converted_prob</th>\n",
       "      <th>Prospect ID</th>\n",
       "      <th>predicted</th>\n",
       "    </tr>\n",
       "  </thead>\n",
       "  <tbody>\n",
       "    <tr>\n",
       "      <th>0</th>\n",
       "      <td>0</td>\n",
       "      <td>0.203980</td>\n",
       "      <td>3009</td>\n",
       "      <td>0</td>\n",
       "    </tr>\n",
       "    <tr>\n",
       "      <th>1</th>\n",
       "      <td>0</td>\n",
       "      <td>0.152519</td>\n",
       "      <td>1012</td>\n",
       "      <td>0</td>\n",
       "    </tr>\n",
       "    <tr>\n",
       "      <th>2</th>\n",
       "      <td>0</td>\n",
       "      <td>0.183242</td>\n",
       "      <td>9226</td>\n",
       "      <td>0</td>\n",
       "    </tr>\n",
       "    <tr>\n",
       "      <th>3</th>\n",
       "      <td>1</td>\n",
       "      <td>0.853563</td>\n",
       "      <td>4750</td>\n",
       "      <td>1</td>\n",
       "    </tr>\n",
       "    <tr>\n",
       "      <th>4</th>\n",
       "      <td>1</td>\n",
       "      <td>0.723770</td>\n",
       "      <td>7987</td>\n",
       "      <td>1</td>\n",
       "    </tr>\n",
       "  </tbody>\n",
       "</table>\n",
       "</div>"
      ],
      "text/plain": [
       "   Converted  Converted_prob  Prospect ID  predicted\n",
       "0          0        0.203980         3009          0\n",
       "1          0        0.152519         1012          0\n",
       "2          0        0.183242         9226          0\n",
       "3          1        0.853563         4750          1\n",
       "4          1        0.723770         7987          1"
      ]
     },
     "execution_count": 291,
     "metadata": {},
     "output_type": "execute_result"
    }
   ],
   "source": [
    "# make cutoff\n",
    "y_train_pred_final['predicted'] = y_train_pred_final.Converted_prob.map(lambda x: 1 if x > 0.5 else 0)\n",
    "\n",
    "# Let's see the head\n",
    "y_train_pred_final.head()"
   ]
  },
  {
   "cell_type": "code",
   "execution_count": 292,
   "id": "d8367ba4",
   "metadata": {},
   "outputs": [
    {
     "name": "stdout",
     "output_type": "stream",
     "text": [
      "[[3466  439]\n",
      " [ 811 1635]]\n"
     ]
    }
   ],
   "source": [
    "# confusion matrix\n",
    "from sklearn import metrics\n",
    "confusion = metrics.confusion_matrix(y_train_pred_final.Converted, y_train_pred_final.predicted )\n",
    "print(confusion)"
   ]
  },
  {
   "cell_type": "code",
   "execution_count": 293,
   "id": "111da7eb",
   "metadata": {},
   "outputs": [
    {
     "name": "stdout",
     "output_type": "stream",
     "text": [
      "Accuracy : 0.8031806014800819\n"
     ]
    }
   ],
   "source": [
    "# Let's check the overall accuracy.\n",
    "print('Accuracy :',metrics.accuracy_score(y_train_pred_final.Converted, y_train_pred_final.predicted))"
   ]
  },
  {
   "cell_type": "code",
   "execution_count": 294,
   "id": "a6a62bb2",
   "metadata": {},
   "outputs": [],
   "source": [
    "# Prety well does this model on train data"
   ]
  },
  {
   "cell_type": "code",
   "execution_count": null,
   "id": "2fa94f62",
   "metadata": {},
   "outputs": [],
   "source": []
  },
  {
   "cell_type": "code",
   "execution_count": null,
   "id": "1cb16e8f",
   "metadata": {},
   "outputs": [],
   "source": []
  }
 ],
 "metadata": {
  "kernelspec": {
   "display_name": "Python 3 (ipykernel)",
   "language": "python",
   "name": "python3"
  },
  "language_info": {
   "codemirror_mode": {
    "name": "ipython",
    "version": 3
   },
   "file_extension": ".py",
   "mimetype": "text/x-python",
   "name": "python",
   "nbconvert_exporter": "python",
   "pygments_lexer": "ipython3",
   "version": "3.8.10"
  }
 },
 "nbformat": 4,
 "nbformat_minor": 5
}
